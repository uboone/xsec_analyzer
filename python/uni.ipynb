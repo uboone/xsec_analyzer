{
 "cells": [
  {
   "cell_type": "markdown",
   "metadata": {},
   "source": [
    "## 0. Setup packages and Constants"
   ]
  },
  {
   "cell_type": "code",
   "execution_count": 1,
   "metadata": {},
   "outputs": [],
   "source": [
    "import pandas as pd\n",
    "import matplotlib.pyplot as plt\n",
    "import uproot\n",
    "import numpy as np\n",
    "import sys\n",
    "from tqdm import tqdm\n",
    "\n",
    "# Utils\n",
    "from utils import plotters\n",
    "\n",
    "plt.style.use('./utils/style.mplstyle')\n",
    "\n",
    "%load_ext autoreload\n",
    "%autoreload 2"
   ]
  },
  {
   "cell_type": "code",
   "execution_count": 2,
   "metadata": {},
   "outputs": [
    {
     "data": {
      "text/plain": [
       "6"
      ]
     },
     "execution_count": 2,
     "metadata": {},
     "output_type": "execute_result"
    }
   ],
   "source": [
    "#Path to the ROOT file containing the universe covariance matrices\n",
    "DATA_PATH = '/exp/sbnd/data/users/brindenc/xsec_analysis/test/sbruce/uni_med_weight4.root'\n",
    "\n",
    "#Bin indices for the covariance matrix\n",
    "P_BINS = np.arange(0, 10)\n",
    "COSTHETA_OVERFLOW_BINS = np.arange(10, 20)\n",
    "COSTHETA_BINS = np.arange(10,19)\n",
    "CAT_BINS = np.arange(0,6)\n",
    "len(CAT_BINS)"
   ]
  },
  {
   "cell_type": "markdown",
   "metadata": {},
   "source": [
    "# 1. Load the data"
   ]
  },
  {
   "cell_type": "code",
   "execution_count": 3,
   "metadata": {},
   "outputs": [],
   "source": [
    "tree = uproot.open(DATA_PATH)\n",
    "keys = tree.keys()\n",
    "#tree.keys() #display all keys in the ROOT file"
   ]
  },
  {
   "cell_type": "code",
   "execution_count": 4,
   "metadata": {},
   "outputs": [
    {
     "data": {
      "text/plain": [
       "568930"
      ]
     },
     "execution_count": 4,
     "metadata": {},
     "output_type": "execute_result"
    }
   ],
   "source": [
    "len(keys)"
   ]
  },
  {
   "cell_type": "code",
   "execution_count": 5,
   "metadata": {},
   "outputs": [
    {
     "data": {
      "text/html": [
       "<html>\n",
       "<div style=\"display:flex; align-items:center;\">\n",
       "<div style=\"width:290px;\">\n",
       "<svg xmlns=\"http://www.w3.org/2000/svg\" viewBox=\"-10 -105 270 120\">\n",
       "<line x1=\"-5\" y1=\"0\" x2=\"255\" y2=\"0\" style=\"fill:none;stroke-width:2;stroke:currentColor\"/>\n",
       "<text text-anchor=\"middle\" x=\"0\" y=\"15\" style=\"fill:currentColor;\">\n",
       "0\n",
       "</text>\n",
       "<text text-anchor=\"middle\" x=\"250\" y=\"15\" style=\"fill:currentColor;\">\n",
       "19\n",
       "</text>\n",
       "<text text-anchor=\"middle\" x=\"125.0\" y=\"15\" style=\"fill:currentColor;\">\n",
       " reco bin number\n",
       "</text>\n",
       "<polyline points=\"  0,0   0,-33.3 13.1579,-33.3 13.1579,-12.1 26.3158,-12.1 26.3158,-27.3 39.4737,-27.3 39.4737,-27.3 52.6316,-27.3 52.6316,-57.6 65.7895,-57.6 65.7895,-48.5 78.9474,-48.5 78.9474,-39.4 92.1053,-39.4 92.1053,-66.7 105.263,-66.7 105.263,-66.7 118.421,-66.7 118.421,-63.6 131.579,-63.6 131.579,-100 144.737,-100 144.737,-75.8 157.895,-75.8 157.895,-63.6 171.053,-63.6 171.053,-27.3 184.211,-27.3 184.211,-12.1 197.368,-12.1 197.368,-12.1 210.526,-12.1 210.526,-18.2 223.684,-18.2 223.684,-3.03 236.842,-3.03 236.842,-3.03 250,-3.03 250,0\" style=\"fill:none; stroke:currentColor;\"/>\n",
       "</svg>\n",
       "</div>\n",
       "<div style=\"flex=grow:1;\">\n",
       "Regular(19, 0, 19, name='xaxis', label=' reco bin number')<br/>\n",
       "<hr style=\"margin-top:.2em; margin-bottom:.2em;\"/>\n",
       "Weight() Σ=WeightedSum(value=250, variance=250)\n",
       "\n",
       "</div>\n",
       "</div>\n",
       "</html>"
      ],
      "text/plain": [
       "Hist(Regular(19, 0, 19, name='xaxis', label=' reco bin number'), storage=Weight()) # Sum: WeightedSum(value=250, variance=250)"
      ]
     },
     "execution_count": 5,
     "metadata": {},
     "output_type": "execute_result"
    }
   ],
   "source": [
    "key = 'SBND_CC1muX_1D/+exp+sbnd+data+users+brindenc+xsec_analysis+test+sbruce+cc1mux_med_weight_copy.root/unweighted_0_reco;1'\n",
    "tree[key].to_hist()"
   ]
  },
  {
   "cell_type": "code",
   "execution_count": 6,
   "metadata": {},
   "outputs": [
    {
     "name": "stderr",
     "output_type": "stream",
     "text": [
      "0it [00:00, ?it/s]"
     ]
    },
    {
     "name": "stderr",
     "output_type": "stream",
     "text": [
      "568930it [12:51, 737.80it/s]\n"
     ]
    }
   ],
   "source": [
    "p_nan_keys = []\n",
    "costheta_nan_keys = []\n",
    "wrong_length_keys = []\n",
    "dir_keys = []\n",
    "non_hist_keys = []\n",
    "accepted_keys = []\n",
    "negative_keys = []\n",
    "zero_keys = []\n",
    "class_names = []\n",
    "\n",
    "twod_nan_keys = []\n",
    "twod_non_square_keys = []\n",
    "twod_valid_keys = []\n",
    "\n",
    "\n",
    "#Check for nan values in the universes\n",
    "for i,_key in tqdm(enumerate(keys)):\n",
    "  is_valid = True\n",
    "  # if i > 100000:\n",
    "  #   break\n",
    "  #print(i,_key)\n",
    "  _tree = tree[_key]\n",
    "  #skip directories\n",
    "  if '.root/' not in _key: \n",
    "    dir_keys.append(_key)\n",
    "    continue\n",
    "  \n",
    "  #skip non-histograms\n",
    "  if _tree.classname == 'TH1D':\n",
    "  \n",
    "    #Check if the histogram has the correct number of bins\n",
    "    if (len(_tree.to_numpy()[0]) != (len(P_BINS) + len(COSTHETA_BINS))) \\\n",
    "      and (len(_tree.to_numpy()[0]) != (len(P_BINS) + len(COSTHETA_OVERFLOW_BINS))): #account for overflow bin \n",
    "      \n",
    "      #print(f'Incorrect number of bins for {_key}')\n",
    "      wrong_length_keys.append(_key)\n",
    "      is_valid=False\n",
    "    #Which keys do we use depends on which length it matches\n",
    "    if len(_tree.to_numpy()[0]) == (len(P_BINS) + len(COSTHETA_BINS)):\n",
    "      costheta_bins = COSTHETA_BINS\n",
    "    elif len(_tree.to_numpy()[0]) == (len(P_BINS) + len(COSTHETA_OVERFLOW_BINS)):\n",
    "      costheta_bins = COSTHETA_OVERFLOW_BINS\n",
    "    \n",
    "    #Get universe values for the momentum histogram\n",
    "    p_vals = _tree.to_numpy()[0][P_BINS]\n",
    "    if np.isnan(p_vals).sum() > 0:\n",
    "      p_nan_keys.append(_key)\n",
    "      break\n",
    "    \n",
    "    #Get universe values for the costheta histogram\n",
    "    costheta_vals = _tree.to_numpy()[0][costheta_bins]\n",
    "    if np.isnan(costheta_vals).sum() > 0:\n",
    "      costheta_nan_keys.append(_key)\n",
    "      break\n",
    "      \n",
    "    #Check for negative values\n",
    "    if (p_vals < 0).sum() > 0:\n",
    "      negative_keys.append(_key)\n",
    "      break\n",
    "    if (costheta_vals < 0).sum() > 0:\n",
    "      negative_keys.append(_key)\n",
    "      break\n",
    "    \n",
    "    #Check for zero values\n",
    "    if (p_vals == 0).sum() > 0:\n",
    "      zero_keys.append(_key)\n",
    "    if (costheta_vals == 0).sum() > 0:\n",
    "      zero_keys.append(_key)\n",
    "    if is_valid:\n",
    "      accepted_keys.append(_key)\n",
    "  elif _tree.classname == 'TH2D':\n",
    "    #print(_tree.to_numpy()[0].shape)\n",
    "    #Get number of bins, which should match either len(P_BINS) + len(COSTHETA_OVERFLOW_BINS) or len(P_BINS) + len(COSTHETA_BINS)\n",
    "    nxbins = _tree.to_numpy()[0].shape[0] \n",
    "    nybins = _tree.to_numpy()[0].shape[1]\n",
    "    if nxbins != nybins:\n",
    "      #print(f'array shape: {_tree.to_numpy()[0].shape} for {_key}')\n",
    "      #raise ValueError('Histogram is not square')\n",
    "      twod_non_square_keys.append(_key)\n",
    "    #continue\n",
    "    if ((nxbins != (len(P_BINS) + len(COSTHETA_BINS)))\\\n",
    "      and (nxbins != (len(COSTHETA_OVERFLOW_BINS) + len(P_BINS)))\\\n",
    "      and (nxbins != len(CAT_BINS))):\n",
    "      print(f'Incorrect number of x bins for {_key}: {nxbins}')\n",
    "      wrong_length_keys.append(_key)\n",
    "      break\n",
    "    if ((nybins != (len(P_BINS) + len(COSTHETA_BINS)))\\\n",
    "      and (nybins != (len(COSTHETA_OVERFLOW_BINS) + len(P_BINS)))\\\n",
    "      and (nybins != len(CAT_BINS))):\n",
    "      print(f'Incorrect number of y bins for {_key}: {nybins}')\n",
    "      wrong_length_keys.append(_key)\n",
    "      break\n",
    "\n",
    "    # Convert to numpy array for processing (assumes appropriate method exists)\n",
    "    vals = _tree.to_numpy()[0] # 2d array\n",
    "\n",
    "    # Check for NaN values\n",
    "    if np.isnan(vals).sum() > 0:\n",
    "      twod_nan_keys.append(_key)\n",
    "      break\n",
    "\n",
    "    # Check for negative values\n",
    "    if (vals < 0).sum() > 0:\n",
    "      negative_keys.append(_key)\n",
    "      break\n",
    "\n",
    "    # Check for zero values\n",
    "    if (vals == 0).sum() > 0:\n",
    "      zero_keys.append(_key)\n",
    "    if is_valid:\n",
    "      twod_valid_keys.append(_key)\n",
    "  else:\n",
    "    non_hist_keys.append(_key)"
   ]
  },
  {
   "cell_type": "code",
   "execution_count": 7,
   "metadata": {},
   "outputs": [
    {
     "name": "stdout",
     "output_type": "stream",
     "text": [
      "len of p_nan_keys: 0\n",
      " len of costheta_nan_keys: 0\n",
      " len of wrong_length_keys: 0\n",
      " len of dir_keys: 94840\n",
      " len of non_hist_keys: 0\n",
      " len of accepted_keys: 158030\n",
      " len of negative_keys: 0\n",
      " len of zero_keys: 316060\n",
      " len of class_names: 0\n",
      " len of twod_nan_keys: 0\n",
      " len of twod_non_square_keys: 158030\n",
      " len of twod_valid_keys: 316060\n"
     ]
    }
   ],
   "source": [
    "print(f'len of p_nan_keys: {len(p_nan_keys)}\\n',\n",
    "  f'len of costheta_nan_keys: {len(costheta_nan_keys)}\\n',\n",
    "  f'len of wrong_length_keys: {len(wrong_length_keys)}\\n',\n",
    "  f'len of dir_keys: {len(dir_keys)}\\n',\n",
    "  f'len of non_hist_keys: {len(non_hist_keys)}\\n',\n",
    "  f'len of accepted_keys: {len(accepted_keys)}\\n',\n",
    "  f'len of negative_keys: {len(negative_keys)}\\n',\n",
    "  f'len of zero_keys: {len(zero_keys)}\\n',\n",
    "  f'len of class_names: {len(class_names)}\\n',\n",
    "  f'len of twod_nan_keys: {len(twod_nan_keys)}\\n',\n",
    "  f'len of twod_non_square_keys: {len(twod_non_square_keys)}\\n',\n",
    "  f'len of twod_valid_keys: {len(twod_valid_keys)}')"
   ]
  },
  {
   "cell_type": "code",
   "execution_count": 58,
   "metadata": {},
   "outputs": [
    {
     "data": {
      "text/html": [
       "<html>\n",
       "<div style=\"display:flex; align-items:center;\">\n",
       "<div style=\"width:290px;\">\n",
       "<svg xmlns=\"http://www.w3.org/2000/svg\" viewBox=\"-20 -270 290 290\">\n",
       "<text text-anchor=\"middle\" x=\"0\" y=\"13\" style=\"fill:currentColor;\">\n",
       "0\n",
       "</text>\n",
       "<text text-anchor=\"middle\" x=\"250\" y=\"13\" style=\"fill:currentColor;\">\n",
       "20\n",
       "</text>\n",
       "<text text-anchor=\"middle\" x=\"-10\" y=\"0\" style=\"fill:currentColor;\">\n",
       "0\n",
       "</text>\n",
       "<text text-anchor=\"middle\" x=\"-10\" y=\"-250\" style=\"fill:currentColor;\">\n",
       "19\n",
       "</text>\n",
       "<text text-anchor=\"middle\" x=\"125.0\" y=\"13\" style=\"fill:currentColor;\">\n",
       " true bin number\n",
       "</text>\n",
       "<text text-anchor=\"middle\" x=\"-10\" y=\"-125.0\" transform=\"rotate(-90,-10,-125.0)\" style=\"fill:currentColor;\">\n",
       " reco bin number\n",
       "</text>\n",
       "<rect x=\"0.0\" y=\"-13.157894736842104\" width=\"12.5\" height=\"13.158\" opacity=\"0.22727272727272727\" fill=\"currentColor\" stroke-width=\"0.1\"/>\n",
       "<rect x=\"12.5\" y=\"-13.157894736842104\" width=\"12.5\" height=\"13.158\" opacity=\"0.0\" fill=\"currentColor\" stroke-width=\"0.1\"/>\n",
       "<rect x=\"25.0\" y=\"-13.157894736842104\" width=\"12.5\" height=\"13.158\" opacity=\"0.0\" fill=\"currentColor\" stroke-width=\"0.1\"/>\n",
       "<rect x=\"37.5\" y=\"-13.157894736842104\" width=\"12.5\" height=\"13.158\" opacity=\"0.0\" fill=\"currentColor\" stroke-width=\"0.1\"/>\n",
       "<rect x=\"50.0\" y=\"-13.157894736842104\" width=\"12.5\" height=\"13.158\" opacity=\"0.0\" fill=\"currentColor\" stroke-width=\"0.1\"/>\n",
       "<rect x=\"62.5\" y=\"-13.157894736842104\" width=\"12.5\" height=\"13.158\" opacity=\"0.0\" fill=\"currentColor\" stroke-width=\"0.1\"/>\n",
       "<rect x=\"75.0\" y=\"-13.157894736842104\" width=\"12.5\" height=\"13.158\" opacity=\"0.0\" fill=\"currentColor\" stroke-width=\"0.1\"/>\n",
       "<rect x=\"87.5\" y=\"-13.157894736842104\" width=\"12.5\" height=\"13.158\" opacity=\"0.0\" fill=\"currentColor\" stroke-width=\"0.1\"/>\n",
       "<rect x=\"100.0\" y=\"-13.157894736842104\" width=\"12.5\" height=\"13.158\" opacity=\"0.0\" fill=\"currentColor\" stroke-width=\"0.1\"/>\n",
       "<rect x=\"112.5\" y=\"-13.157894736842104\" width=\"12.5\" height=\"13.158\" opacity=\"0.18181818181818182\" fill=\"currentColor\" stroke-width=\"0.1\"/>\n",
       "<rect x=\"125.0\" y=\"-13.157894736842104\" width=\"12.5\" height=\"13.158\" opacity=\"0.045454545454545456\" fill=\"currentColor\" stroke-width=\"0.1\"/>\n",
       "<rect x=\"137.5\" y=\"-13.157894736842104\" width=\"12.5\" height=\"13.158\" opacity=\"0.0\" fill=\"currentColor\" stroke-width=\"0.1\"/>\n",
       "<rect x=\"150.0\" y=\"-13.157894736842104\" width=\"12.5\" height=\"13.158\" opacity=\"0.0\" fill=\"currentColor\" stroke-width=\"0.1\"/>\n",
       "<rect x=\"162.5\" y=\"-13.157894736842104\" width=\"12.5\" height=\"13.158\" opacity=\"0.0\" fill=\"currentColor\" stroke-width=\"0.1\"/>\n",
       "<rect x=\"175.0\" y=\"-13.157894736842104\" width=\"12.5\" height=\"13.158\" opacity=\"0.0\" fill=\"currentColor\" stroke-width=\"0.1\"/>\n",
       "<rect x=\"187.5\" y=\"-13.157894736842104\" width=\"12.5\" height=\"13.158\" opacity=\"0.0\" fill=\"currentColor\" stroke-width=\"0.1\"/>\n",
       "<rect x=\"200.0\" y=\"-13.157894736842104\" width=\"12.5\" height=\"13.158\" opacity=\"0.0\" fill=\"currentColor\" stroke-width=\"0.1\"/>\n",
       "<rect x=\"212.5\" y=\"-13.157894736842104\" width=\"12.5\" height=\"13.158\" opacity=\"0.0\" fill=\"currentColor\" stroke-width=\"0.1\"/>\n",
       "<rect x=\"225.0\" y=\"-13.157894736842104\" width=\"12.5\" height=\"13.158\" opacity=\"0.0\" fill=\"currentColor\" stroke-width=\"0.1\"/>\n",
       "<rect x=\"237.5\" y=\"-13.157894736842104\" width=\"12.5\" height=\"13.158\" opacity=\"0.27272727272727276\" fill=\"currentColor\" stroke-width=\"0.1\"/>\n",
       "<rect x=\"0.0\" y=\"-26.31578947368421\" width=\"12.5\" height=\"13.158\" opacity=\"0.0\" fill=\"currentColor\" stroke-width=\"0.1\"/>\n",
       "<rect x=\"12.5\" y=\"-26.31578947368421\" width=\"12.5\" height=\"13.158\" opacity=\"0.13636363636363638\" fill=\"currentColor\" stroke-width=\"0.1\"/>\n",
       "<rect x=\"25.0\" y=\"-26.31578947368421\" width=\"12.5\" height=\"13.158\" opacity=\"0.045454545454545456\" fill=\"currentColor\" stroke-width=\"0.1\"/>\n",
       "<rect x=\"37.5\" y=\"-26.31578947368421\" width=\"12.5\" height=\"13.158\" opacity=\"0.0\" fill=\"currentColor\" stroke-width=\"0.1\"/>\n",
       "<rect x=\"50.0\" y=\"-26.31578947368421\" width=\"12.5\" height=\"13.158\" opacity=\"0.0\" fill=\"currentColor\" stroke-width=\"0.1\"/>\n",
       "<rect x=\"62.5\" y=\"-26.31578947368421\" width=\"12.5\" height=\"13.158\" opacity=\"0.0\" fill=\"currentColor\" stroke-width=\"0.1\"/>\n",
       "<rect x=\"75.0\" y=\"-26.31578947368421\" width=\"12.5\" height=\"13.158\" opacity=\"0.0\" fill=\"currentColor\" stroke-width=\"0.1\"/>\n",
       "<rect x=\"87.5\" y=\"-26.31578947368421\" width=\"12.5\" height=\"13.158\" opacity=\"0.0\" fill=\"currentColor\" stroke-width=\"0.1\"/>\n",
       "<rect x=\"100.0\" y=\"-26.31578947368421\" width=\"12.5\" height=\"13.158\" opacity=\"0.0\" fill=\"currentColor\" stroke-width=\"0.1\"/>\n",
       "<rect x=\"112.5\" y=\"-26.31578947368421\" width=\"12.5\" height=\"13.158\" opacity=\"0.13636363636363638\" fill=\"currentColor\" stroke-width=\"0.1\"/>\n",
       "<rect x=\"125.0\" y=\"-26.31578947368421\" width=\"12.5\" height=\"13.158\" opacity=\"0.045454545454545456\" fill=\"currentColor\" stroke-width=\"0.1\"/>\n",
       "<rect x=\"137.5\" y=\"-26.31578947368421\" width=\"12.5\" height=\"13.158\" opacity=\"0.0\" fill=\"currentColor\" stroke-width=\"0.1\"/>\n",
       "<rect x=\"150.0\" y=\"-26.31578947368421\" width=\"12.5\" height=\"13.158\" opacity=\"0.0\" fill=\"currentColor\" stroke-width=\"0.1\"/>\n",
       "<rect x=\"162.5\" y=\"-26.31578947368421\" width=\"12.5\" height=\"13.158\" opacity=\"0.0\" fill=\"currentColor\" stroke-width=\"0.1\"/>\n",
       "<rect x=\"175.0\" y=\"-26.31578947368421\" width=\"12.5\" height=\"13.158\" opacity=\"0.0\" fill=\"currentColor\" stroke-width=\"0.1\"/>\n",
       "<rect x=\"187.5\" y=\"-26.31578947368421\" width=\"12.5\" height=\"13.158\" opacity=\"0.0\" fill=\"currentColor\" stroke-width=\"0.1\"/>\n",
       "<rect x=\"200.0\" y=\"-26.31578947368421\" width=\"12.5\" height=\"13.158\" opacity=\"0.0\" fill=\"currentColor\" stroke-width=\"0.1\"/>\n",
       "<rect x=\"212.5\" y=\"-26.31578947368421\" width=\"12.5\" height=\"13.158\" opacity=\"0.0\" fill=\"currentColor\" stroke-width=\"0.1\"/>\n",
       "<rect x=\"225.0\" y=\"-26.31578947368421\" width=\"12.5\" height=\"13.158\" opacity=\"0.0\" fill=\"currentColor\" stroke-width=\"0.1\"/>\n",
       "<rect x=\"237.5\" y=\"-26.31578947368421\" width=\"12.5\" height=\"13.158\" opacity=\"0.0\" fill=\"currentColor\" stroke-width=\"0.1\"/>\n",
       "<rect x=\"0.0\" y=\"-39.473684210526315\" width=\"12.5\" height=\"13.158\" opacity=\"0.0\" fill=\"currentColor\" stroke-width=\"0.1\"/>\n",
       "<rect x=\"12.5\" y=\"-39.473684210526315\" width=\"12.5\" height=\"13.158\" opacity=\"0.045454545454545456\" fill=\"currentColor\" stroke-width=\"0.1\"/>\n",
       "<rect x=\"25.0\" y=\"-39.473684210526315\" width=\"12.5\" height=\"13.158\" opacity=\"0.3181818181818182\" fill=\"currentColor\" stroke-width=\"0.1\"/>\n",
       "<rect x=\"37.5\" y=\"-39.473684210526315\" width=\"12.5\" height=\"13.158\" opacity=\"0.0\" fill=\"currentColor\" stroke-width=\"0.1\"/>\n",
       "<rect x=\"50.0\" y=\"-39.473684210526315\" width=\"12.5\" height=\"13.158\" opacity=\"0.045454545454545456\" fill=\"currentColor\" stroke-width=\"0.1\"/>\n",
       "<rect x=\"62.5\" y=\"-39.473684210526315\" width=\"12.5\" height=\"13.158\" opacity=\"0.0\" fill=\"currentColor\" stroke-width=\"0.1\"/>\n",
       "<rect x=\"75.0\" y=\"-39.473684210526315\" width=\"12.5\" height=\"13.158\" opacity=\"0.0\" fill=\"currentColor\" stroke-width=\"0.1\"/>\n",
       "<rect x=\"87.5\" y=\"-39.473684210526315\" width=\"12.5\" height=\"13.158\" opacity=\"0.0\" fill=\"currentColor\" stroke-width=\"0.1\"/>\n",
       "<rect x=\"100.0\" y=\"-39.473684210526315\" width=\"12.5\" height=\"13.158\" opacity=\"0.0\" fill=\"currentColor\" stroke-width=\"0.1\"/>\n",
       "<rect x=\"112.5\" y=\"-39.473684210526315\" width=\"12.5\" height=\"13.158\" opacity=\"0.13636363636363638\" fill=\"currentColor\" stroke-width=\"0.1\"/>\n",
       "<rect x=\"125.0\" y=\"-39.473684210526315\" width=\"12.5\" height=\"13.158\" opacity=\"0.27272727272727276\" fill=\"currentColor\" stroke-width=\"0.1\"/>\n",
       "<rect x=\"137.5\" y=\"-39.473684210526315\" width=\"12.5\" height=\"13.158\" opacity=\"0.0\" fill=\"currentColor\" stroke-width=\"0.1\"/>\n",
       "<rect x=\"150.0\" y=\"-39.473684210526315\" width=\"12.5\" height=\"13.158\" opacity=\"0.0\" fill=\"currentColor\" stroke-width=\"0.1\"/>\n",
       "<rect x=\"162.5\" y=\"-39.473684210526315\" width=\"12.5\" height=\"13.158\" opacity=\"0.0\" fill=\"currentColor\" stroke-width=\"0.1\"/>\n",
       "<rect x=\"175.0\" y=\"-39.473684210526315\" width=\"12.5\" height=\"13.158\" opacity=\"0.0\" fill=\"currentColor\" stroke-width=\"0.1\"/>\n",
       "<rect x=\"187.5\" y=\"-39.473684210526315\" width=\"12.5\" height=\"13.158\" opacity=\"0.0\" fill=\"currentColor\" stroke-width=\"0.1\"/>\n",
       "<rect x=\"200.0\" y=\"-39.473684210526315\" width=\"12.5\" height=\"13.158\" opacity=\"0.0\" fill=\"currentColor\" stroke-width=\"0.1\"/>\n",
       "<rect x=\"212.5\" y=\"-39.473684210526315\" width=\"12.5\" height=\"13.158\" opacity=\"0.0\" fill=\"currentColor\" stroke-width=\"0.1\"/>\n",
       "<rect x=\"225.0\" y=\"-39.473684210526315\" width=\"12.5\" height=\"13.158\" opacity=\"0.0\" fill=\"currentColor\" stroke-width=\"0.1\"/>\n",
       "<rect x=\"237.5\" y=\"-39.473684210526315\" width=\"12.5\" height=\"13.158\" opacity=\"0.0\" fill=\"currentColor\" stroke-width=\"0.1\"/>\n",
       "<rect x=\"0.0\" y=\"-52.63157894736842\" width=\"12.5\" height=\"13.158\" opacity=\"0.0\" fill=\"currentColor\" stroke-width=\"0.1\"/>\n",
       "<rect x=\"12.5\" y=\"-52.63157894736842\" width=\"12.5\" height=\"13.158\" opacity=\"0.0\" fill=\"currentColor\" stroke-width=\"0.1\"/>\n",
       "<rect x=\"25.0\" y=\"-52.63157894736842\" width=\"12.5\" height=\"13.158\" opacity=\"0.045454545454545456\" fill=\"currentColor\" stroke-width=\"0.1\"/>\n",
       "<rect x=\"37.5\" y=\"-52.63157894736842\" width=\"12.5\" height=\"13.158\" opacity=\"0.3181818181818182\" fill=\"currentColor\" stroke-width=\"0.1\"/>\n",
       "<rect x=\"50.0\" y=\"-52.63157894736842\" width=\"12.5\" height=\"13.158\" opacity=\"0.0\" fill=\"currentColor\" stroke-width=\"0.1\"/>\n",
       "<rect x=\"62.5\" y=\"-52.63157894736842\" width=\"12.5\" height=\"13.158\" opacity=\"0.0\" fill=\"currentColor\" stroke-width=\"0.1\"/>\n",
       "<rect x=\"75.0\" y=\"-52.63157894736842\" width=\"12.5\" height=\"13.158\" opacity=\"0.0\" fill=\"currentColor\" stroke-width=\"0.1\"/>\n",
       "<rect x=\"87.5\" y=\"-52.63157894736842\" width=\"12.5\" height=\"13.158\" opacity=\"0.0\" fill=\"currentColor\" stroke-width=\"0.1\"/>\n",
       "<rect x=\"100.0\" y=\"-52.63157894736842\" width=\"12.5\" height=\"13.158\" opacity=\"0.0\" fill=\"currentColor\" stroke-width=\"0.1\"/>\n",
       "<rect x=\"112.5\" y=\"-52.63157894736842\" width=\"12.5\" height=\"13.158\" opacity=\"0.045454545454545456\" fill=\"currentColor\" stroke-width=\"0.1\"/>\n",
       "<rect x=\"125.0\" y=\"-52.63157894736842\" width=\"12.5\" height=\"13.158\" opacity=\"0.27272727272727276\" fill=\"currentColor\" stroke-width=\"0.1\"/>\n",
       "<rect x=\"137.5\" y=\"-52.63157894736842\" width=\"12.5\" height=\"13.158\" opacity=\"0.045454545454545456\" fill=\"currentColor\" stroke-width=\"0.1\"/>\n",
       "<rect x=\"150.0\" y=\"-52.63157894736842\" width=\"12.5\" height=\"13.158\" opacity=\"0.0\" fill=\"currentColor\" stroke-width=\"0.1\"/>\n",
       "<rect x=\"162.5\" y=\"-52.63157894736842\" width=\"12.5\" height=\"13.158\" opacity=\"0.0\" fill=\"currentColor\" stroke-width=\"0.1\"/>\n",
       "<rect x=\"175.0\" y=\"-52.63157894736842\" width=\"12.5\" height=\"13.158\" opacity=\"0.0\" fill=\"currentColor\" stroke-width=\"0.1\"/>\n",
       "<rect x=\"187.5\" y=\"-52.63157894736842\" width=\"12.5\" height=\"13.158\" opacity=\"0.0\" fill=\"currentColor\" stroke-width=\"0.1\"/>\n",
       "<rect x=\"200.0\" y=\"-52.63157894736842\" width=\"12.5\" height=\"13.158\" opacity=\"0.0\" fill=\"currentColor\" stroke-width=\"0.1\"/>\n",
       "<rect x=\"212.5\" y=\"-52.63157894736842\" width=\"12.5\" height=\"13.158\" opacity=\"0.0\" fill=\"currentColor\" stroke-width=\"0.1\"/>\n",
       "<rect x=\"225.0\" y=\"-52.63157894736842\" width=\"12.5\" height=\"13.158\" opacity=\"0.0\" fill=\"currentColor\" stroke-width=\"0.1\"/>\n",
       "<rect x=\"237.5\" y=\"-52.63157894736842\" width=\"12.5\" height=\"13.158\" opacity=\"0.045454545454545456\" fill=\"currentColor\" stroke-width=\"0.1\"/>\n",
       "<rect x=\"0.0\" y=\"-65.78947368421052\" width=\"12.5\" height=\"13.158\" opacity=\"0.0\" fill=\"currentColor\" stroke-width=\"0.1\"/>\n",
       "<rect x=\"12.5\" y=\"-65.78947368421052\" width=\"12.5\" height=\"13.158\" opacity=\"0.0\" fill=\"currentColor\" stroke-width=\"0.1\"/>\n",
       "<rect x=\"25.0\" y=\"-65.78947368421052\" width=\"12.5\" height=\"13.158\" opacity=\"0.0\" fill=\"currentColor\" stroke-width=\"0.1\"/>\n",
       "<rect x=\"37.5\" y=\"-65.78947368421052\" width=\"12.5\" height=\"13.158\" opacity=\"0.18181818181818182\" fill=\"currentColor\" stroke-width=\"0.1\"/>\n",
       "<rect x=\"50.0\" y=\"-65.78947368421052\" width=\"12.5\" height=\"13.158\" opacity=\"0.5909090909090909\" fill=\"currentColor\" stroke-width=\"0.1\"/>\n",
       "<rect x=\"62.5\" y=\"-65.78947368421052\" width=\"12.5\" height=\"13.158\" opacity=\"0.09090909090909091\" fill=\"currentColor\" stroke-width=\"0.1\"/>\n",
       "<rect x=\"75.0\" y=\"-65.78947368421052\" width=\"12.5\" height=\"13.158\" opacity=\"0.0\" fill=\"currentColor\" stroke-width=\"0.1\"/>\n",
       "<rect x=\"87.5\" y=\"-65.78947368421052\" width=\"12.5\" height=\"13.158\" opacity=\"0.0\" fill=\"currentColor\" stroke-width=\"0.1\"/>\n",
       "<rect x=\"100.0\" y=\"-65.78947368421052\" width=\"12.5\" height=\"13.158\" opacity=\"0.0\" fill=\"currentColor\" stroke-width=\"0.1\"/>\n",
       "<rect x=\"112.5\" y=\"-65.78947368421052\" width=\"12.5\" height=\"13.158\" opacity=\"0.13636363636363638\" fill=\"currentColor\" stroke-width=\"0.1\"/>\n",
       "<rect x=\"125.0\" y=\"-65.78947368421052\" width=\"12.5\" height=\"13.158\" opacity=\"0.22727272727272727\" fill=\"currentColor\" stroke-width=\"0.1\"/>\n",
       "<rect x=\"137.5\" y=\"-65.78947368421052\" width=\"12.5\" height=\"13.158\" opacity=\"0.45454545454545453\" fill=\"currentColor\" stroke-width=\"0.1\"/>\n",
       "<rect x=\"150.0\" y=\"-65.78947368421052\" width=\"12.5\" height=\"13.158\" opacity=\"0.045454545454545456\" fill=\"currentColor\" stroke-width=\"0.1\"/>\n",
       "<rect x=\"162.5\" y=\"-65.78947368421052\" width=\"12.5\" height=\"13.158\" opacity=\"0.0\" fill=\"currentColor\" stroke-width=\"0.1\"/>\n",
       "<rect x=\"175.0\" y=\"-65.78947368421052\" width=\"12.5\" height=\"13.158\" opacity=\"0.0\" fill=\"currentColor\" stroke-width=\"0.1\"/>\n",
       "<rect x=\"187.5\" y=\"-65.78947368421052\" width=\"12.5\" height=\"13.158\" opacity=\"0.0\" fill=\"currentColor\" stroke-width=\"0.1\"/>\n",
       "<rect x=\"200.0\" y=\"-65.78947368421052\" width=\"12.5\" height=\"13.158\" opacity=\"0.0\" fill=\"currentColor\" stroke-width=\"0.1\"/>\n",
       "<rect x=\"212.5\" y=\"-65.78947368421052\" width=\"12.5\" height=\"13.158\" opacity=\"0.0\" fill=\"currentColor\" stroke-width=\"0.1\"/>\n",
       "<rect x=\"225.0\" y=\"-65.78947368421052\" width=\"12.5\" height=\"13.158\" opacity=\"0.0\" fill=\"currentColor\" stroke-width=\"0.1\"/>\n",
       "<rect x=\"237.5\" y=\"-65.78947368421052\" width=\"12.5\" height=\"13.158\" opacity=\"0.0\" fill=\"currentColor\" stroke-width=\"0.1\"/>\n",
       "<rect x=\"0.0\" y=\"-78.94736842105263\" width=\"12.5\" height=\"13.158\" opacity=\"0.0\" fill=\"currentColor\" stroke-width=\"0.1\"/>\n",
       "<rect x=\"12.5\" y=\"-78.94736842105263\" width=\"12.5\" height=\"13.158\" opacity=\"0.0\" fill=\"currentColor\" stroke-width=\"0.1\"/>\n",
       "<rect x=\"25.0\" y=\"-78.94736842105263\" width=\"12.5\" height=\"13.158\" opacity=\"0.0\" fill=\"currentColor\" stroke-width=\"0.1\"/>\n",
       "<rect x=\"37.5\" y=\"-78.94736842105263\" width=\"12.5\" height=\"13.158\" opacity=\"0.0\" fill=\"currentColor\" stroke-width=\"0.1\"/>\n",
       "<rect x=\"50.0\" y=\"-78.94736842105263\" width=\"12.5\" height=\"13.158\" opacity=\"0.0\" fill=\"currentColor\" stroke-width=\"0.1\"/>\n",
       "<rect x=\"62.5\" y=\"-78.94736842105263\" width=\"12.5\" height=\"13.158\" opacity=\"0.5454545454545455\" fill=\"currentColor\" stroke-width=\"0.1\"/>\n",
       "<rect x=\"75.0\" y=\"-78.94736842105263\" width=\"12.5\" height=\"13.158\" opacity=\"0.13636363636363638\" fill=\"currentColor\" stroke-width=\"0.1\"/>\n",
       "<rect x=\"87.5\" y=\"-78.94736842105263\" width=\"12.5\" height=\"13.158\" opacity=\"0.0\" fill=\"currentColor\" stroke-width=\"0.1\"/>\n",
       "<rect x=\"100.0\" y=\"-78.94736842105263\" width=\"12.5\" height=\"13.158\" opacity=\"0.0\" fill=\"currentColor\" stroke-width=\"0.1\"/>\n",
       "<rect x=\"112.5\" y=\"-78.94736842105263\" width=\"12.5\" height=\"13.158\" opacity=\"0.0\" fill=\"currentColor\" stroke-width=\"0.1\"/>\n",
       "<rect x=\"125.0\" y=\"-78.94736842105263\" width=\"12.5\" height=\"13.158\" opacity=\"0.13636363636363638\" fill=\"currentColor\" stroke-width=\"0.1\"/>\n",
       "<rect x=\"137.5\" y=\"-78.94736842105263\" width=\"12.5\" height=\"13.158\" opacity=\"0.4090909090909091\" fill=\"currentColor\" stroke-width=\"0.1\"/>\n",
       "<rect x=\"150.0\" y=\"-78.94736842105263\" width=\"12.5\" height=\"13.158\" opacity=\"0.09090909090909091\" fill=\"currentColor\" stroke-width=\"0.1\"/>\n",
       "<rect x=\"162.5\" y=\"-78.94736842105263\" width=\"12.5\" height=\"13.158\" opacity=\"0.045454545454545456\" fill=\"currentColor\" stroke-width=\"0.1\"/>\n",
       "<rect x=\"175.0\" y=\"-78.94736842105263\" width=\"12.5\" height=\"13.158\" opacity=\"0.0\" fill=\"currentColor\" stroke-width=\"0.1\"/>\n",
       "<rect x=\"187.5\" y=\"-78.94736842105263\" width=\"12.5\" height=\"13.158\" opacity=\"0.0\" fill=\"currentColor\" stroke-width=\"0.1\"/>\n",
       "<rect x=\"200.0\" y=\"-78.94736842105263\" width=\"12.5\" height=\"13.158\" opacity=\"0.0\" fill=\"currentColor\" stroke-width=\"0.1\"/>\n",
       "<rect x=\"212.5\" y=\"-78.94736842105263\" width=\"12.5\" height=\"13.158\" opacity=\"0.0\" fill=\"currentColor\" stroke-width=\"0.1\"/>\n",
       "<rect x=\"225.0\" y=\"-78.94736842105263\" width=\"12.5\" height=\"13.158\" opacity=\"0.0\" fill=\"currentColor\" stroke-width=\"0.1\"/>\n",
       "<rect x=\"237.5\" y=\"-78.94736842105263\" width=\"12.5\" height=\"13.158\" opacity=\"0.045454545454545456\" fill=\"currentColor\" stroke-width=\"0.1\"/>\n",
       "<rect x=\"0.0\" y=\"-92.10526315789473\" width=\"12.5\" height=\"13.158\" opacity=\"0.09090909090909091\" fill=\"currentColor\" stroke-width=\"0.1\"/>\n",
       "<rect x=\"12.5\" y=\"-92.10526315789473\" width=\"12.5\" height=\"13.158\" opacity=\"0.0\" fill=\"currentColor\" stroke-width=\"0.1\"/>\n",
       "<rect x=\"25.0\" y=\"-92.10526315789473\" width=\"12.5\" height=\"13.158\" opacity=\"0.0\" fill=\"currentColor\" stroke-width=\"0.1\"/>\n",
       "<rect x=\"37.5\" y=\"-92.10526315789473\" width=\"12.5\" height=\"13.158\" opacity=\"0.0\" fill=\"currentColor\" stroke-width=\"0.1\"/>\n",
       "<rect x=\"50.0\" y=\"-92.10526315789473\" width=\"12.5\" height=\"13.158\" opacity=\"0.0\" fill=\"currentColor\" stroke-width=\"0.1\"/>\n",
       "<rect x=\"62.5\" y=\"-92.10526315789473\" width=\"12.5\" height=\"13.158\" opacity=\"0.045454545454545456\" fill=\"currentColor\" stroke-width=\"0.1\"/>\n",
       "<rect x=\"75.0\" y=\"-92.10526315789473\" width=\"12.5\" height=\"13.158\" opacity=\"0.36363636363636365\" fill=\"currentColor\" stroke-width=\"0.1\"/>\n",
       "<rect x=\"87.5\" y=\"-92.10526315789473\" width=\"12.5\" height=\"13.158\" opacity=\"0.0\" fill=\"currentColor\" stroke-width=\"0.1\"/>\n",
       "<rect x=\"100.0\" y=\"-92.10526315789473\" width=\"12.5\" height=\"13.158\" opacity=\"0.0\" fill=\"currentColor\" stroke-width=\"0.1\"/>\n",
       "<rect x=\"112.5\" y=\"-92.10526315789473\" width=\"12.5\" height=\"13.158\" opacity=\"0.09090909090909091\" fill=\"currentColor\" stroke-width=\"0.1\"/>\n",
       "<rect x=\"125.0\" y=\"-92.10526315789473\" width=\"12.5\" height=\"13.158\" opacity=\"0.045454545454545456\" fill=\"currentColor\" stroke-width=\"0.1\"/>\n",
       "<rect x=\"137.5\" y=\"-92.10526315789473\" width=\"12.5\" height=\"13.158\" opacity=\"0.045454545454545456\" fill=\"currentColor\" stroke-width=\"0.1\"/>\n",
       "<rect x=\"150.0\" y=\"-92.10526315789473\" width=\"12.5\" height=\"13.158\" opacity=\"0.18181818181818182\" fill=\"currentColor\" stroke-width=\"0.1\"/>\n",
       "<rect x=\"162.5\" y=\"-92.10526315789473\" width=\"12.5\" height=\"13.158\" opacity=\"0.045454545454545456\" fill=\"currentColor\" stroke-width=\"0.1\"/>\n",
       "<rect x=\"175.0\" y=\"-92.10526315789473\" width=\"12.5\" height=\"13.158\" opacity=\"0.09090909090909091\" fill=\"currentColor\" stroke-width=\"0.1\"/>\n",
       "<rect x=\"187.5\" y=\"-92.10526315789473\" width=\"12.5\" height=\"13.158\" opacity=\"0.0\" fill=\"currentColor\" stroke-width=\"0.1\"/>\n",
       "<rect x=\"200.0\" y=\"-92.10526315789473\" width=\"12.5\" height=\"13.158\" opacity=\"0.0\" fill=\"currentColor\" stroke-width=\"0.1\"/>\n",
       "<rect x=\"212.5\" y=\"-92.10526315789473\" width=\"12.5\" height=\"13.158\" opacity=\"0.0\" fill=\"currentColor\" stroke-width=\"0.1\"/>\n",
       "<rect x=\"225.0\" y=\"-92.10526315789473\" width=\"12.5\" height=\"13.158\" opacity=\"0.0\" fill=\"currentColor\" stroke-width=\"0.1\"/>\n",
       "<rect x=\"237.5\" y=\"-92.10526315789473\" width=\"12.5\" height=\"13.158\" opacity=\"0.09090909090909091\" fill=\"currentColor\" stroke-width=\"0.1\"/>\n",
       "<rect x=\"0.0\" y=\"-105.26315789473684\" width=\"12.5\" height=\"13.158\" opacity=\"0.0\" fill=\"currentColor\" stroke-width=\"0.1\"/>\n",
       "<rect x=\"12.5\" y=\"-105.26315789473684\" width=\"12.5\" height=\"13.158\" opacity=\"0.0\" fill=\"currentColor\" stroke-width=\"0.1\"/>\n",
       "<rect x=\"25.0\" y=\"-105.26315789473684\" width=\"12.5\" height=\"13.158\" opacity=\"0.0\" fill=\"currentColor\" stroke-width=\"0.1\"/>\n",
       "<rect x=\"37.5\" y=\"-105.26315789473684\" width=\"12.5\" height=\"13.158\" opacity=\"0.045454545454545456\" fill=\"currentColor\" stroke-width=\"0.1\"/>\n",
       "<rect x=\"50.0\" y=\"-105.26315789473684\" width=\"12.5\" height=\"13.158\" opacity=\"0.045454545454545456\" fill=\"currentColor\" stroke-width=\"0.1\"/>\n",
       "<rect x=\"62.5\" y=\"-105.26315789473684\" width=\"12.5\" height=\"13.158\" opacity=\"0.0\" fill=\"currentColor\" stroke-width=\"0.1\"/>\n",
       "<rect x=\"75.0\" y=\"-105.26315789473684\" width=\"12.5\" height=\"13.158\" opacity=\"0.0\" fill=\"currentColor\" stroke-width=\"0.1\"/>\n",
       "<rect x=\"87.5\" y=\"-105.26315789473684\" width=\"12.5\" height=\"13.158\" opacity=\"0.6363636363636364\" fill=\"currentColor\" stroke-width=\"0.1\"/>\n",
       "<rect x=\"100.0\" y=\"-105.26315789473684\" width=\"12.5\" height=\"13.158\" opacity=\"0.13636363636363638\" fill=\"currentColor\" stroke-width=\"0.1\"/>\n",
       "<rect x=\"112.5\" y=\"-105.26315789473684\" width=\"12.5\" height=\"13.158\" opacity=\"0.045454545454545456\" fill=\"currentColor\" stroke-width=\"0.1\"/>\n",
       "<rect x=\"125.0\" y=\"-105.26315789473684\" width=\"12.5\" height=\"13.158\" opacity=\"0.13636363636363638\" fill=\"currentColor\" stroke-width=\"0.1\"/>\n",
       "<rect x=\"137.5\" y=\"-105.26315789473684\" width=\"12.5\" height=\"13.158\" opacity=\"0.13636363636363638\" fill=\"currentColor\" stroke-width=\"0.1\"/>\n",
       "<rect x=\"150.0\" y=\"-105.26315789473684\" width=\"12.5\" height=\"13.158\" opacity=\"0.18181818181818182\" fill=\"currentColor\" stroke-width=\"0.1\"/>\n",
       "<rect x=\"162.5\" y=\"-105.26315789473684\" width=\"12.5\" height=\"13.158\" opacity=\"0.18181818181818182\" fill=\"currentColor\" stroke-width=\"0.1\"/>\n",
       "<rect x=\"175.0\" y=\"-105.26315789473684\" width=\"12.5\" height=\"13.158\" opacity=\"0.09090909090909091\" fill=\"currentColor\" stroke-width=\"0.1\"/>\n",
       "<rect x=\"187.5\" y=\"-105.26315789473684\" width=\"12.5\" height=\"13.158\" opacity=\"0.0\" fill=\"currentColor\" stroke-width=\"0.1\"/>\n",
       "<rect x=\"200.0\" y=\"-105.26315789473684\" width=\"12.5\" height=\"13.158\" opacity=\"0.09090909090909091\" fill=\"currentColor\" stroke-width=\"0.1\"/>\n",
       "<rect x=\"212.5\" y=\"-105.26315789473684\" width=\"12.5\" height=\"13.158\" opacity=\"0.0\" fill=\"currentColor\" stroke-width=\"0.1\"/>\n",
       "<rect x=\"225.0\" y=\"-105.26315789473684\" width=\"12.5\" height=\"13.158\" opacity=\"0.0\" fill=\"currentColor\" stroke-width=\"0.1\"/>\n",
       "<rect x=\"237.5\" y=\"-105.26315789473684\" width=\"12.5\" height=\"13.158\" opacity=\"0.13636363636363638\" fill=\"currentColor\" stroke-width=\"0.1\"/>\n",
       "<rect x=\"0.0\" y=\"-118.42105263157895\" width=\"12.5\" height=\"13.158\" opacity=\"0.0\" fill=\"currentColor\" stroke-width=\"0.1\"/>\n",
       "<rect x=\"12.5\" y=\"-118.42105263157895\" width=\"12.5\" height=\"13.158\" opacity=\"0.0\" fill=\"currentColor\" stroke-width=\"0.1\"/>\n",
       "<rect x=\"25.0\" y=\"-118.42105263157895\" width=\"12.5\" height=\"13.158\" opacity=\"0.0\" fill=\"currentColor\" stroke-width=\"0.1\"/>\n",
       "<rect x=\"37.5\" y=\"-118.42105263157895\" width=\"12.5\" height=\"13.158\" opacity=\"0.045454545454545456\" fill=\"currentColor\" stroke-width=\"0.1\"/>\n",
       "<rect x=\"50.0\" y=\"-118.42105263157895\" width=\"12.5\" height=\"13.158\" opacity=\"0.0\" fill=\"currentColor\" stroke-width=\"0.1\"/>\n",
       "<rect x=\"62.5\" y=\"-118.42105263157895\" width=\"12.5\" height=\"13.158\" opacity=\"0.0\" fill=\"currentColor\" stroke-width=\"0.1\"/>\n",
       "<rect x=\"75.0\" y=\"-118.42105263157895\" width=\"12.5\" height=\"13.158\" opacity=\"0.0\" fill=\"currentColor\" stroke-width=\"0.1\"/>\n",
       "<rect x=\"87.5\" y=\"-118.42105263157895\" width=\"12.5\" height=\"13.158\" opacity=\"0.09090909090909091\" fill=\"currentColor\" stroke-width=\"0.1\"/>\n",
       "<rect x=\"100.0\" y=\"-118.42105263157895\" width=\"12.5\" height=\"13.158\" opacity=\"0.8181818181818182\" fill=\"currentColor\" stroke-width=\"0.1\"/>\n",
       "<rect x=\"112.5\" y=\"-118.42105263157895\" width=\"12.5\" height=\"13.158\" opacity=\"0.0\" fill=\"currentColor\" stroke-width=\"0.1\"/>\n",
       "<rect x=\"125.0\" y=\"-118.42105263157895\" width=\"12.5\" height=\"13.158\" opacity=\"0.0\" fill=\"currentColor\" stroke-width=\"0.1\"/>\n",
       "<rect x=\"137.5\" y=\"-118.42105263157895\" width=\"12.5\" height=\"13.158\" opacity=\"0.09090909090909091\" fill=\"currentColor\" stroke-width=\"0.1\"/>\n",
       "<rect x=\"150.0\" y=\"-118.42105263157895\" width=\"12.5\" height=\"13.158\" opacity=\"0.13636363636363638\" fill=\"currentColor\" stroke-width=\"0.1\"/>\n",
       "<rect x=\"162.5\" y=\"-118.42105263157895\" width=\"12.5\" height=\"13.158\" opacity=\"0.13636363636363638\" fill=\"currentColor\" stroke-width=\"0.1\"/>\n",
       "<rect x=\"175.0\" y=\"-118.42105263157895\" width=\"12.5\" height=\"13.158\" opacity=\"0.09090909090909091\" fill=\"currentColor\" stroke-width=\"0.1\"/>\n",
       "<rect x=\"187.5\" y=\"-118.42105263157895\" width=\"12.5\" height=\"13.158\" opacity=\"0.13636363636363638\" fill=\"currentColor\" stroke-width=\"0.1\"/>\n",
       "<rect x=\"200.0\" y=\"-118.42105263157895\" width=\"12.5\" height=\"13.158\" opacity=\"0.09090909090909091\" fill=\"currentColor\" stroke-width=\"0.1\"/>\n",
       "<rect x=\"212.5\" y=\"-118.42105263157895\" width=\"12.5\" height=\"13.158\" opacity=\"0.13636363636363638\" fill=\"currentColor\" stroke-width=\"0.1\"/>\n",
       "<rect x=\"225.0\" y=\"-118.42105263157895\" width=\"12.5\" height=\"13.158\" opacity=\"0.13636363636363638\" fill=\"currentColor\" stroke-width=\"0.1\"/>\n",
       "<rect x=\"237.5\" y=\"-118.42105263157895\" width=\"12.5\" height=\"13.158\" opacity=\"0.045454545454545456\" fill=\"currentColor\" stroke-width=\"0.1\"/>\n",
       "<rect x=\"0.0\" y=\"-131.57894736842104\" width=\"12.5\" height=\"13.158\" opacity=\"0.27272727272727276\" fill=\"currentColor\" stroke-width=\"0.1\"/>\n",
       "<rect x=\"12.5\" y=\"-131.57894736842104\" width=\"12.5\" height=\"13.158\" opacity=\"0.13636363636363638\" fill=\"currentColor\" stroke-width=\"0.1\"/>\n",
       "<rect x=\"25.0\" y=\"-131.57894736842104\" width=\"12.5\" height=\"13.158\" opacity=\"0.18181818181818182\" fill=\"currentColor\" stroke-width=\"0.1\"/>\n",
       "<rect x=\"37.5\" y=\"-131.57894736842104\" width=\"12.5\" height=\"13.158\" opacity=\"0.045454545454545456\" fill=\"currentColor\" stroke-width=\"0.1\"/>\n",
       "<rect x=\"50.0\" y=\"-131.57894736842104\" width=\"12.5\" height=\"13.158\" opacity=\"0.09090909090909091\" fill=\"currentColor\" stroke-width=\"0.1\"/>\n",
       "<rect x=\"62.5\" y=\"-131.57894736842104\" width=\"12.5\" height=\"13.158\" opacity=\"0.0\" fill=\"currentColor\" stroke-width=\"0.1\"/>\n",
       "<rect x=\"75.0\" y=\"-131.57894736842104\" width=\"12.5\" height=\"13.158\" opacity=\"0.0\" fill=\"currentColor\" stroke-width=\"0.1\"/>\n",
       "<rect x=\"87.5\" y=\"-131.57894736842104\" width=\"12.5\" height=\"13.158\" opacity=\"0.0\" fill=\"currentColor\" stroke-width=\"0.1\"/>\n",
       "<rect x=\"100.0\" y=\"-131.57894736842104\" width=\"12.5\" height=\"13.158\" opacity=\"0.0\" fill=\"currentColor\" stroke-width=\"0.1\"/>\n",
       "<rect x=\"112.5\" y=\"-131.57894736842104\" width=\"12.5\" height=\"13.158\" opacity=\"0.6363636363636364\" fill=\"currentColor\" stroke-width=\"0.1\"/>\n",
       "<rect x=\"125.0\" y=\"-131.57894736842104\" width=\"12.5\" height=\"13.158\" opacity=\"0.09090909090909091\" fill=\"currentColor\" stroke-width=\"0.1\"/>\n",
       "<rect x=\"137.5\" y=\"-131.57894736842104\" width=\"12.5\" height=\"13.158\" opacity=\"0.0\" fill=\"currentColor\" stroke-width=\"0.1\"/>\n",
       "<rect x=\"150.0\" y=\"-131.57894736842104\" width=\"12.5\" height=\"13.158\" opacity=\"0.0\" fill=\"currentColor\" stroke-width=\"0.1\"/>\n",
       "<rect x=\"162.5\" y=\"-131.57894736842104\" width=\"12.5\" height=\"13.158\" opacity=\"0.0\" fill=\"currentColor\" stroke-width=\"0.1\"/>\n",
       "<rect x=\"175.0\" y=\"-131.57894736842104\" width=\"12.5\" height=\"13.158\" opacity=\"0.0\" fill=\"currentColor\" stroke-width=\"0.1\"/>\n",
       "<rect x=\"187.5\" y=\"-131.57894736842104\" width=\"12.5\" height=\"13.158\" opacity=\"0.0\" fill=\"currentColor\" stroke-width=\"0.1\"/>\n",
       "<rect x=\"200.0\" y=\"-131.57894736842104\" width=\"12.5\" height=\"13.158\" opacity=\"0.0\" fill=\"currentColor\" stroke-width=\"0.1\"/>\n",
       "<rect x=\"212.5\" y=\"-131.57894736842104\" width=\"12.5\" height=\"13.158\" opacity=\"0.0\" fill=\"currentColor\" stroke-width=\"0.1\"/>\n",
       "<rect x=\"225.0\" y=\"-131.57894736842104\" width=\"12.5\" height=\"13.158\" opacity=\"0.0\" fill=\"currentColor\" stroke-width=\"0.1\"/>\n",
       "<rect x=\"237.5\" y=\"-131.57894736842104\" width=\"12.5\" height=\"13.158\" opacity=\"0.22727272727272727\" fill=\"currentColor\" stroke-width=\"0.1\"/>\n",
       "<rect x=\"0.0\" y=\"-144.73684210526315\" width=\"12.5\" height=\"13.158\" opacity=\"0.045454545454545456\" fill=\"currentColor\" stroke-width=\"0.1\"/>\n",
       "<rect x=\"12.5\" y=\"-144.73684210526315\" width=\"12.5\" height=\"13.158\" opacity=\"0.045454545454545456\" fill=\"currentColor\" stroke-width=\"0.1\"/>\n",
       "<rect x=\"25.0\" y=\"-144.73684210526315\" width=\"12.5\" height=\"13.158\" opacity=\"0.18181818181818182\" fill=\"currentColor\" stroke-width=\"0.1\"/>\n",
       "<rect x=\"37.5\" y=\"-144.73684210526315\" width=\"12.5\" height=\"13.158\" opacity=\"0.36363636363636365\" fill=\"currentColor\" stroke-width=\"0.1\"/>\n",
       "<rect x=\"50.0\" y=\"-144.73684210526315\" width=\"12.5\" height=\"13.158\" opacity=\"0.22727272727272727\" fill=\"currentColor\" stroke-width=\"0.1\"/>\n",
       "<rect x=\"62.5\" y=\"-144.73684210526315\" width=\"12.5\" height=\"13.158\" opacity=\"0.18181818181818182\" fill=\"currentColor\" stroke-width=\"0.1\"/>\n",
       "<rect x=\"75.0\" y=\"-144.73684210526315\" width=\"12.5\" height=\"13.158\" opacity=\"0.09090909090909091\" fill=\"currentColor\" stroke-width=\"0.1\"/>\n",
       "<rect x=\"87.5\" y=\"-144.73684210526315\" width=\"12.5\" height=\"13.158\" opacity=\"0.09090909090909091\" fill=\"currentColor\" stroke-width=\"0.1\"/>\n",
       "<rect x=\"100.0\" y=\"-144.73684210526315\" width=\"12.5\" height=\"13.158\" opacity=\"0.045454545454545456\" fill=\"currentColor\" stroke-width=\"0.1\"/>\n",
       "<rect x=\"112.5\" y=\"-144.73684210526315\" width=\"12.5\" height=\"13.158\" opacity=\"0.13636363636363638\" fill=\"currentColor\" stroke-width=\"0.1\"/>\n",
       "<rect x=\"125.0\" y=\"-144.73684210526315\" width=\"12.5\" height=\"13.158\" opacity=\"1.0\" fill=\"currentColor\" stroke-width=\"0.1\"/>\n",
       "<rect x=\"137.5\" y=\"-144.73684210526315\" width=\"12.5\" height=\"13.158\" opacity=\"0.09090909090909091\" fill=\"currentColor\" stroke-width=\"0.1\"/>\n",
       "<rect x=\"150.0\" y=\"-144.73684210526315\" width=\"12.5\" height=\"13.158\" opacity=\"0.0\" fill=\"currentColor\" stroke-width=\"0.1\"/>\n",
       "<rect x=\"162.5\" y=\"-144.73684210526315\" width=\"12.5\" height=\"13.158\" opacity=\"0.0\" fill=\"currentColor\" stroke-width=\"0.1\"/>\n",
       "<rect x=\"175.0\" y=\"-144.73684210526315\" width=\"12.5\" height=\"13.158\" opacity=\"0.0\" fill=\"currentColor\" stroke-width=\"0.1\"/>\n",
       "<rect x=\"187.5\" y=\"-144.73684210526315\" width=\"12.5\" height=\"13.158\" opacity=\"0.0\" fill=\"currentColor\" stroke-width=\"0.1\"/>\n",
       "<rect x=\"200.0\" y=\"-144.73684210526315\" width=\"12.5\" height=\"13.158\" opacity=\"0.0\" fill=\"currentColor\" stroke-width=\"0.1\"/>\n",
       "<rect x=\"212.5\" y=\"-144.73684210526315\" width=\"12.5\" height=\"13.158\" opacity=\"0.045454545454545456\" fill=\"currentColor\" stroke-width=\"0.1\"/>\n",
       "<rect x=\"225.0\" y=\"-144.73684210526315\" width=\"12.5\" height=\"13.158\" opacity=\"0.0\" fill=\"currentColor\" stroke-width=\"0.1\"/>\n",
       "<rect x=\"237.5\" y=\"-144.73684210526315\" width=\"12.5\" height=\"13.158\" opacity=\"0.22727272727272727\" fill=\"currentColor\" stroke-width=\"0.1\"/>\n",
       "<rect x=\"0.0\" y=\"-157.89473684210526\" width=\"12.5\" height=\"13.158\" opacity=\"0.0\" fill=\"currentColor\" stroke-width=\"0.1\"/>\n",
       "<rect x=\"12.5\" y=\"-157.89473684210526\" width=\"12.5\" height=\"13.158\" opacity=\"0.0\" fill=\"currentColor\" stroke-width=\"0.1\"/>\n",
       "<rect x=\"25.0\" y=\"-157.89473684210526\" width=\"12.5\" height=\"13.158\" opacity=\"0.045454545454545456\" fill=\"currentColor\" stroke-width=\"0.1\"/>\n",
       "<rect x=\"37.5\" y=\"-157.89473684210526\" width=\"12.5\" height=\"13.158\" opacity=\"0.18181818181818182\" fill=\"currentColor\" stroke-width=\"0.1\"/>\n",
       "<rect x=\"50.0\" y=\"-157.89473684210526\" width=\"12.5\" height=\"13.158\" opacity=\"0.27272727272727276\" fill=\"currentColor\" stroke-width=\"0.1\"/>\n",
       "<rect x=\"62.5\" y=\"-157.89473684210526\" width=\"12.5\" height=\"13.158\" opacity=\"0.27272727272727276\" fill=\"currentColor\" stroke-width=\"0.1\"/>\n",
       "<rect x=\"75.0\" y=\"-157.89473684210526\" width=\"12.5\" height=\"13.158\" opacity=\"0.045454545454545456\" fill=\"currentColor\" stroke-width=\"0.1\"/>\n",
       "<rect x=\"87.5\" y=\"-157.89473684210526\" width=\"12.5\" height=\"13.158\" opacity=\"0.13636363636363638\" fill=\"currentColor\" stroke-width=\"0.1\"/>\n",
       "<rect x=\"100.0\" y=\"-157.89473684210526\" width=\"12.5\" height=\"13.158\" opacity=\"0.09090909090909091\" fill=\"currentColor\" stroke-width=\"0.1\"/>\n",
       "<rect x=\"112.5\" y=\"-157.89473684210526\" width=\"12.5\" height=\"13.158\" opacity=\"0.0\" fill=\"currentColor\" stroke-width=\"0.1\"/>\n",
       "<rect x=\"125.0\" y=\"-157.89473684210526\" width=\"12.5\" height=\"13.158\" opacity=\"0.09090909090909091\" fill=\"currentColor\" stroke-width=\"0.1\"/>\n",
       "<rect x=\"137.5\" y=\"-157.89473684210526\" width=\"12.5\" height=\"13.158\" opacity=\"0.8181818181818182\" fill=\"currentColor\" stroke-width=\"0.1\"/>\n",
       "<rect x=\"150.0\" y=\"-157.89473684210526\" width=\"12.5\" height=\"13.158\" opacity=\"0.045454545454545456\" fill=\"currentColor\" stroke-width=\"0.1\"/>\n",
       "<rect x=\"162.5\" y=\"-157.89473684210526\" width=\"12.5\" height=\"13.158\" opacity=\"0.09090909090909091\" fill=\"currentColor\" stroke-width=\"0.1\"/>\n",
       "<rect x=\"175.0\" y=\"-157.89473684210526\" width=\"12.5\" height=\"13.158\" opacity=\"0.0\" fill=\"currentColor\" stroke-width=\"0.1\"/>\n",
       "<rect x=\"187.5\" y=\"-157.89473684210526\" width=\"12.5\" height=\"13.158\" opacity=\"0.0\" fill=\"currentColor\" stroke-width=\"0.1\"/>\n",
       "<rect x=\"200.0\" y=\"-157.89473684210526\" width=\"12.5\" height=\"13.158\" opacity=\"0.0\" fill=\"currentColor\" stroke-width=\"0.1\"/>\n",
       "<rect x=\"212.5\" y=\"-157.89473684210526\" width=\"12.5\" height=\"13.158\" opacity=\"0.0\" fill=\"currentColor\" stroke-width=\"0.1\"/>\n",
       "<rect x=\"225.0\" y=\"-157.89473684210526\" width=\"12.5\" height=\"13.158\" opacity=\"0.0\" fill=\"currentColor\" stroke-width=\"0.1\"/>\n",
       "<rect x=\"237.5\" y=\"-157.89473684210526\" width=\"12.5\" height=\"13.158\" opacity=\"0.09090909090909091\" fill=\"currentColor\" stroke-width=\"0.1\"/>\n",
       "<rect x=\"0.0\" y=\"-171.05263157894737\" width=\"12.5\" height=\"13.158\" opacity=\"0.0\" fill=\"currentColor\" stroke-width=\"0.1\"/>\n",
       "<rect x=\"12.5\" y=\"-171.05263157894737\" width=\"12.5\" height=\"13.158\" opacity=\"0.0\" fill=\"currentColor\" stroke-width=\"0.1\"/>\n",
       "<rect x=\"25.0\" y=\"-171.05263157894737\" width=\"12.5\" height=\"13.158\" opacity=\"0.0\" fill=\"currentColor\" stroke-width=\"0.1\"/>\n",
       "<rect x=\"37.5\" y=\"-171.05263157894737\" width=\"12.5\" height=\"13.158\" opacity=\"0.0\" fill=\"currentColor\" stroke-width=\"0.1\"/>\n",
       "<rect x=\"50.0\" y=\"-171.05263157894737\" width=\"12.5\" height=\"13.158\" opacity=\"0.09090909090909091\" fill=\"currentColor\" stroke-width=\"0.1\"/>\n",
       "<rect x=\"62.5\" y=\"-171.05263157894737\" width=\"12.5\" height=\"13.158\" opacity=\"0.18181818181818182\" fill=\"currentColor\" stroke-width=\"0.1\"/>\n",
       "<rect x=\"75.0\" y=\"-171.05263157894737\" width=\"12.5\" height=\"13.158\" opacity=\"0.13636363636363638\" fill=\"currentColor\" stroke-width=\"0.1\"/>\n",
       "<rect x=\"87.5\" y=\"-171.05263157894737\" width=\"12.5\" height=\"13.158\" opacity=\"0.13636363636363638\" fill=\"currentColor\" stroke-width=\"0.1\"/>\n",
       "<rect x=\"100.0\" y=\"-171.05263157894737\" width=\"12.5\" height=\"13.158\" opacity=\"0.36363636363636365\" fill=\"currentColor\" stroke-width=\"0.1\"/>\n",
       "<rect x=\"112.5\" y=\"-171.05263157894737\" width=\"12.5\" height=\"13.158\" opacity=\"0.0\" fill=\"currentColor\" stroke-width=\"0.1\"/>\n",
       "<rect x=\"125.0\" y=\"-171.05263157894737\" width=\"12.5\" height=\"13.158\" opacity=\"0.0\" fill=\"currentColor\" stroke-width=\"0.1\"/>\n",
       "<rect x=\"137.5\" y=\"-171.05263157894737\" width=\"12.5\" height=\"13.158\" opacity=\"0.27272727272727276\" fill=\"currentColor\" stroke-width=\"0.1\"/>\n",
       "<rect x=\"150.0\" y=\"-171.05263157894737\" width=\"12.5\" height=\"13.158\" opacity=\"0.5\" fill=\"currentColor\" stroke-width=\"0.1\"/>\n",
       "<rect x=\"162.5\" y=\"-171.05263157894737\" width=\"12.5\" height=\"13.158\" opacity=\"0.0\" fill=\"currentColor\" stroke-width=\"0.1\"/>\n",
       "<rect x=\"175.0\" y=\"-171.05263157894737\" width=\"12.5\" height=\"13.158\" opacity=\"0.045454545454545456\" fill=\"currentColor\" stroke-width=\"0.1\"/>\n",
       "<rect x=\"187.5\" y=\"-171.05263157894737\" width=\"12.5\" height=\"13.158\" opacity=\"0.0\" fill=\"currentColor\" stroke-width=\"0.1\"/>\n",
       "<rect x=\"200.0\" y=\"-171.05263157894737\" width=\"12.5\" height=\"13.158\" opacity=\"0.0\" fill=\"currentColor\" stroke-width=\"0.1\"/>\n",
       "<rect x=\"212.5\" y=\"-171.05263157894737\" width=\"12.5\" height=\"13.158\" opacity=\"0.045454545454545456\" fill=\"currentColor\" stroke-width=\"0.1\"/>\n",
       "<rect x=\"225.0\" y=\"-171.05263157894737\" width=\"12.5\" height=\"13.158\" opacity=\"0.045454545454545456\" fill=\"currentColor\" stroke-width=\"0.1\"/>\n",
       "<rect x=\"237.5\" y=\"-171.05263157894737\" width=\"12.5\" height=\"13.158\" opacity=\"0.045454545454545456\" fill=\"currentColor\" stroke-width=\"0.1\"/>\n",
       "<rect x=\"0.0\" y=\"-184.21052631578945\" width=\"12.5\" height=\"13.158\" opacity=\"0.0\" fill=\"currentColor\" stroke-width=\"0.1\"/>\n",
       "<rect x=\"12.5\" y=\"-184.21052631578945\" width=\"12.5\" height=\"13.158\" opacity=\"0.0\" fill=\"currentColor\" stroke-width=\"0.1\"/>\n",
       "<rect x=\"25.0\" y=\"-184.21052631578945\" width=\"12.5\" height=\"13.158\" opacity=\"0.0\" fill=\"currentColor\" stroke-width=\"0.1\"/>\n",
       "<rect x=\"37.5\" y=\"-184.21052631578945\" width=\"12.5\" height=\"13.158\" opacity=\"0.0\" fill=\"currentColor\" stroke-width=\"0.1\"/>\n",
       "<rect x=\"50.0\" y=\"-184.21052631578945\" width=\"12.5\" height=\"13.158\" opacity=\"0.0\" fill=\"currentColor\" stroke-width=\"0.1\"/>\n",
       "<rect x=\"62.5\" y=\"-184.21052631578945\" width=\"12.5\" height=\"13.158\" opacity=\"0.0\" fill=\"currentColor\" stroke-width=\"0.1\"/>\n",
       "<rect x=\"75.0\" y=\"-184.21052631578945\" width=\"12.5\" height=\"13.158\" opacity=\"0.18181818181818182\" fill=\"currentColor\" stroke-width=\"0.1\"/>\n",
       "<rect x=\"87.5\" y=\"-184.21052631578945\" width=\"12.5\" height=\"13.158\" opacity=\"0.13636363636363638\" fill=\"currentColor\" stroke-width=\"0.1\"/>\n",
       "<rect x=\"100.0\" y=\"-184.21052631578945\" width=\"12.5\" height=\"13.158\" opacity=\"0.09090909090909091\" fill=\"currentColor\" stroke-width=\"0.1\"/>\n",
       "<rect x=\"112.5\" y=\"-184.21052631578945\" width=\"12.5\" height=\"13.158\" opacity=\"0.0\" fill=\"currentColor\" stroke-width=\"0.1\"/>\n",
       "<rect x=\"125.0\" y=\"-184.21052631578945\" width=\"12.5\" height=\"13.158\" opacity=\"0.0\" fill=\"currentColor\" stroke-width=\"0.1\"/>\n",
       "<rect x=\"137.5\" y=\"-184.21052631578945\" width=\"12.5\" height=\"13.158\" opacity=\"0.0\" fill=\"currentColor\" stroke-width=\"0.1\"/>\n",
       "<rect x=\"150.0\" y=\"-184.21052631578945\" width=\"12.5\" height=\"13.158\" opacity=\"0.09090909090909091\" fill=\"currentColor\" stroke-width=\"0.1\"/>\n",
       "<rect x=\"162.5\" y=\"-184.21052631578945\" width=\"12.5\" height=\"13.158\" opacity=\"0.22727272727272727\" fill=\"currentColor\" stroke-width=\"0.1\"/>\n",
       "<rect x=\"175.0\" y=\"-184.21052631578945\" width=\"12.5\" height=\"13.158\" opacity=\"0.09090909090909091\" fill=\"currentColor\" stroke-width=\"0.1\"/>\n",
       "<rect x=\"187.5\" y=\"-184.21052631578945\" width=\"12.5\" height=\"13.158\" opacity=\"0.0\" fill=\"currentColor\" stroke-width=\"0.1\"/>\n",
       "<rect x=\"200.0\" y=\"-184.21052631578945\" width=\"12.5\" height=\"13.158\" opacity=\"0.0\" fill=\"currentColor\" stroke-width=\"0.1\"/>\n",
       "<rect x=\"212.5\" y=\"-184.21052631578945\" width=\"12.5\" height=\"13.158\" opacity=\"0.0\" fill=\"currentColor\" stroke-width=\"0.1\"/>\n",
       "<rect x=\"225.0\" y=\"-184.21052631578945\" width=\"12.5\" height=\"13.158\" opacity=\"0.0\" fill=\"currentColor\" stroke-width=\"0.1\"/>\n",
       "<rect x=\"237.5\" y=\"-184.21052631578945\" width=\"12.5\" height=\"13.158\" opacity=\"0.0\" fill=\"currentColor\" stroke-width=\"0.1\"/>\n",
       "<rect x=\"0.0\" y=\"-197.3684210526316\" width=\"12.5\" height=\"13.158\" opacity=\"0.0\" fill=\"currentColor\" stroke-width=\"0.1\"/>\n",
       "<rect x=\"12.5\" y=\"-197.3684210526316\" width=\"12.5\" height=\"13.158\" opacity=\"0.0\" fill=\"currentColor\" stroke-width=\"0.1\"/>\n",
       "<rect x=\"25.0\" y=\"-197.3684210526316\" width=\"12.5\" height=\"13.158\" opacity=\"0.0\" fill=\"currentColor\" stroke-width=\"0.1\"/>\n",
       "<rect x=\"37.5\" y=\"-197.3684210526316\" width=\"12.5\" height=\"13.158\" opacity=\"0.0\" fill=\"currentColor\" stroke-width=\"0.1\"/>\n",
       "<rect x=\"50.0\" y=\"-197.3684210526316\" width=\"12.5\" height=\"13.158\" opacity=\"0.0\" fill=\"currentColor\" stroke-width=\"0.1\"/>\n",
       "<rect x=\"62.5\" y=\"-197.3684210526316\" width=\"12.5\" height=\"13.158\" opacity=\"0.045454545454545456\" fill=\"currentColor\" stroke-width=\"0.1\"/>\n",
       "<rect x=\"75.0\" y=\"-197.3684210526316\" width=\"12.5\" height=\"13.158\" opacity=\"0.045454545454545456\" fill=\"currentColor\" stroke-width=\"0.1\"/>\n",
       "<rect x=\"87.5\" y=\"-197.3684210526316\" width=\"12.5\" height=\"13.158\" opacity=\"0.09090909090909091\" fill=\"currentColor\" stroke-width=\"0.1\"/>\n",
       "<rect x=\"100.0\" y=\"-197.3684210526316\" width=\"12.5\" height=\"13.158\" opacity=\"0.0\" fill=\"currentColor\" stroke-width=\"0.1\"/>\n",
       "<rect x=\"112.5\" y=\"-197.3684210526316\" width=\"12.5\" height=\"13.158\" opacity=\"0.0\" fill=\"currentColor\" stroke-width=\"0.1\"/>\n",
       "<rect x=\"125.0\" y=\"-197.3684210526316\" width=\"12.5\" height=\"13.158\" opacity=\"0.0\" fill=\"currentColor\" stroke-width=\"0.1\"/>\n",
       "<rect x=\"137.5\" y=\"-197.3684210526316\" width=\"12.5\" height=\"13.158\" opacity=\"0.0\" fill=\"currentColor\" stroke-width=\"0.1\"/>\n",
       "<rect x=\"150.0\" y=\"-197.3684210526316\" width=\"12.5\" height=\"13.158\" opacity=\"0.0\" fill=\"currentColor\" stroke-width=\"0.1\"/>\n",
       "<rect x=\"162.5\" y=\"-197.3684210526316\" width=\"12.5\" height=\"13.158\" opacity=\"0.09090909090909091\" fill=\"currentColor\" stroke-width=\"0.1\"/>\n",
       "<rect x=\"175.0\" y=\"-197.3684210526316\" width=\"12.5\" height=\"13.158\" opacity=\"0.09090909090909091\" fill=\"currentColor\" stroke-width=\"0.1\"/>\n",
       "<rect x=\"187.5\" y=\"-197.3684210526316\" width=\"12.5\" height=\"13.158\" opacity=\"0.0\" fill=\"currentColor\" stroke-width=\"0.1\"/>\n",
       "<rect x=\"200.0\" y=\"-197.3684210526316\" width=\"12.5\" height=\"13.158\" opacity=\"0.0\" fill=\"currentColor\" stroke-width=\"0.1\"/>\n",
       "<rect x=\"212.5\" y=\"-197.3684210526316\" width=\"12.5\" height=\"13.158\" opacity=\"0.0\" fill=\"currentColor\" stroke-width=\"0.1\"/>\n",
       "<rect x=\"225.0\" y=\"-197.3684210526316\" width=\"12.5\" height=\"13.158\" opacity=\"0.0\" fill=\"currentColor\" stroke-width=\"0.1\"/>\n",
       "<rect x=\"237.5\" y=\"-197.3684210526316\" width=\"12.5\" height=\"13.158\" opacity=\"0.0\" fill=\"currentColor\" stroke-width=\"0.1\"/>\n",
       "<rect x=\"0.0\" y=\"-210.52631578947367\" width=\"12.5\" height=\"13.158\" opacity=\"0.0\" fill=\"currentColor\" stroke-width=\"0.1\"/>\n",
       "<rect x=\"12.5\" y=\"-210.52631578947367\" width=\"12.5\" height=\"13.158\" opacity=\"0.0\" fill=\"currentColor\" stroke-width=\"0.1\"/>\n",
       "<rect x=\"25.0\" y=\"-210.52631578947367\" width=\"12.5\" height=\"13.158\" opacity=\"0.0\" fill=\"currentColor\" stroke-width=\"0.1\"/>\n",
       "<rect x=\"37.5\" y=\"-210.52631578947367\" width=\"12.5\" height=\"13.158\" opacity=\"0.0\" fill=\"currentColor\" stroke-width=\"0.1\"/>\n",
       "<rect x=\"50.0\" y=\"-210.52631578947367\" width=\"12.5\" height=\"13.158\" opacity=\"0.0\" fill=\"currentColor\" stroke-width=\"0.1\"/>\n",
       "<rect x=\"62.5\" y=\"-210.52631578947367\" width=\"12.5\" height=\"13.158\" opacity=\"0.0\" fill=\"currentColor\" stroke-width=\"0.1\"/>\n",
       "<rect x=\"75.0\" y=\"-210.52631578947367\" width=\"12.5\" height=\"13.158\" opacity=\"0.0\" fill=\"currentColor\" stroke-width=\"0.1\"/>\n",
       "<rect x=\"87.5\" y=\"-210.52631578947367\" width=\"12.5\" height=\"13.158\" opacity=\"0.0\" fill=\"currentColor\" stroke-width=\"0.1\"/>\n",
       "<rect x=\"100.0\" y=\"-210.52631578947367\" width=\"12.5\" height=\"13.158\" opacity=\"0.18181818181818182\" fill=\"currentColor\" stroke-width=\"0.1\"/>\n",
       "<rect x=\"112.5\" y=\"-210.52631578947367\" width=\"12.5\" height=\"13.158\" opacity=\"0.0\" fill=\"currentColor\" stroke-width=\"0.1\"/>\n",
       "<rect x=\"125.0\" y=\"-210.52631578947367\" width=\"12.5\" height=\"13.158\" opacity=\"0.0\" fill=\"currentColor\" stroke-width=\"0.1\"/>\n",
       "<rect x=\"137.5\" y=\"-210.52631578947367\" width=\"12.5\" height=\"13.158\" opacity=\"0.0\" fill=\"currentColor\" stroke-width=\"0.1\"/>\n",
       "<rect x=\"150.0\" y=\"-210.52631578947367\" width=\"12.5\" height=\"13.158\" opacity=\"0.0\" fill=\"currentColor\" stroke-width=\"0.1\"/>\n",
       "<rect x=\"162.5\" y=\"-210.52631578947367\" width=\"12.5\" height=\"13.158\" opacity=\"0.0\" fill=\"currentColor\" stroke-width=\"0.1\"/>\n",
       "<rect x=\"175.0\" y=\"-210.52631578947367\" width=\"12.5\" height=\"13.158\" opacity=\"0.0\" fill=\"currentColor\" stroke-width=\"0.1\"/>\n",
       "<rect x=\"187.5\" y=\"-210.52631578947367\" width=\"12.5\" height=\"13.158\" opacity=\"0.09090909090909091\" fill=\"currentColor\" stroke-width=\"0.1\"/>\n",
       "<rect x=\"200.0\" y=\"-210.52631578947367\" width=\"12.5\" height=\"13.158\" opacity=\"0.045454545454545456\" fill=\"currentColor\" stroke-width=\"0.1\"/>\n",
       "<rect x=\"212.5\" y=\"-210.52631578947367\" width=\"12.5\" height=\"13.158\" opacity=\"0.045454545454545456\" fill=\"currentColor\" stroke-width=\"0.1\"/>\n",
       "<rect x=\"225.0\" y=\"-210.52631578947367\" width=\"12.5\" height=\"13.158\" opacity=\"0.0\" fill=\"currentColor\" stroke-width=\"0.1\"/>\n",
       "<rect x=\"237.5\" y=\"-210.52631578947367\" width=\"12.5\" height=\"13.158\" opacity=\"0.0\" fill=\"currentColor\" stroke-width=\"0.1\"/>\n",
       "<rect x=\"0.0\" y=\"-223.68421052631578\" width=\"12.5\" height=\"13.158\" opacity=\"0.0\" fill=\"currentColor\" stroke-width=\"0.1\"/>\n",
       "<rect x=\"12.5\" y=\"-223.68421052631578\" width=\"12.5\" height=\"13.158\" opacity=\"0.0\" fill=\"currentColor\" stroke-width=\"0.1\"/>\n",
       "<rect x=\"25.0\" y=\"-223.68421052631578\" width=\"12.5\" height=\"13.158\" opacity=\"0.0\" fill=\"currentColor\" stroke-width=\"0.1\"/>\n",
       "<rect x=\"37.5\" y=\"-223.68421052631578\" width=\"12.5\" height=\"13.158\" opacity=\"0.0\" fill=\"currentColor\" stroke-width=\"0.1\"/>\n",
       "<rect x=\"50.0\" y=\"-223.68421052631578\" width=\"12.5\" height=\"13.158\" opacity=\"0.0\" fill=\"currentColor\" stroke-width=\"0.1\"/>\n",
       "<rect x=\"62.5\" y=\"-223.68421052631578\" width=\"12.5\" height=\"13.158\" opacity=\"0.0\" fill=\"currentColor\" stroke-width=\"0.1\"/>\n",
       "<rect x=\"75.0\" y=\"-223.68421052631578\" width=\"12.5\" height=\"13.158\" opacity=\"0.0\" fill=\"currentColor\" stroke-width=\"0.1\"/>\n",
       "<rect x=\"87.5\" y=\"-223.68421052631578\" width=\"12.5\" height=\"13.158\" opacity=\"0.13636363636363638\" fill=\"currentColor\" stroke-width=\"0.1\"/>\n",
       "<rect x=\"100.0\" y=\"-223.68421052631578\" width=\"12.5\" height=\"13.158\" opacity=\"0.13636363636363638\" fill=\"currentColor\" stroke-width=\"0.1\"/>\n",
       "<rect x=\"112.5\" y=\"-223.68421052631578\" width=\"12.5\" height=\"13.158\" opacity=\"0.0\" fill=\"currentColor\" stroke-width=\"0.1\"/>\n",
       "<rect x=\"125.0\" y=\"-223.68421052631578\" width=\"12.5\" height=\"13.158\" opacity=\"0.0\" fill=\"currentColor\" stroke-width=\"0.1\"/>\n",
       "<rect x=\"137.5\" y=\"-223.68421052631578\" width=\"12.5\" height=\"13.158\" opacity=\"0.0\" fill=\"currentColor\" stroke-width=\"0.1\"/>\n",
       "<rect x=\"150.0\" y=\"-223.68421052631578\" width=\"12.5\" height=\"13.158\" opacity=\"0.0\" fill=\"currentColor\" stroke-width=\"0.1\"/>\n",
       "<rect x=\"162.5\" y=\"-223.68421052631578\" width=\"12.5\" height=\"13.158\" opacity=\"0.0\" fill=\"currentColor\" stroke-width=\"0.1\"/>\n",
       "<rect x=\"175.0\" y=\"-223.68421052631578\" width=\"12.5\" height=\"13.158\" opacity=\"0.045454545454545456\" fill=\"currentColor\" stroke-width=\"0.1\"/>\n",
       "<rect x=\"187.5\" y=\"-223.68421052631578\" width=\"12.5\" height=\"13.158\" opacity=\"0.045454545454545456\" fill=\"currentColor\" stroke-width=\"0.1\"/>\n",
       "<rect x=\"200.0\" y=\"-223.68421052631578\" width=\"12.5\" height=\"13.158\" opacity=\"0.13636363636363638\" fill=\"currentColor\" stroke-width=\"0.1\"/>\n",
       "<rect x=\"212.5\" y=\"-223.68421052631578\" width=\"12.5\" height=\"13.158\" opacity=\"0.0\" fill=\"currentColor\" stroke-width=\"0.1\"/>\n",
       "<rect x=\"225.0\" y=\"-223.68421052631578\" width=\"12.5\" height=\"13.158\" opacity=\"0.045454545454545456\" fill=\"currentColor\" stroke-width=\"0.1\"/>\n",
       "<rect x=\"237.5\" y=\"-223.68421052631578\" width=\"12.5\" height=\"13.158\" opacity=\"0.0\" fill=\"currentColor\" stroke-width=\"0.1\"/>\n",
       "<rect x=\"0.0\" y=\"-236.8421052631579\" width=\"12.5\" height=\"13.158\" opacity=\"0.0\" fill=\"currentColor\" stroke-width=\"0.1\"/>\n",
       "<rect x=\"12.5\" y=\"-236.8421052631579\" width=\"12.5\" height=\"13.158\" opacity=\"0.0\" fill=\"currentColor\" stroke-width=\"0.1\"/>\n",
       "<rect x=\"25.0\" y=\"-236.8421052631579\" width=\"12.5\" height=\"13.158\" opacity=\"0.0\" fill=\"currentColor\" stroke-width=\"0.1\"/>\n",
       "<rect x=\"37.5\" y=\"-236.8421052631579\" width=\"12.5\" height=\"13.158\" opacity=\"0.0\" fill=\"currentColor\" stroke-width=\"0.1\"/>\n",
       "<rect x=\"50.0\" y=\"-236.8421052631579\" width=\"12.5\" height=\"13.158\" opacity=\"0.0\" fill=\"currentColor\" stroke-width=\"0.1\"/>\n",
       "<rect x=\"62.5\" y=\"-236.8421052631579\" width=\"12.5\" height=\"13.158\" opacity=\"0.0\" fill=\"currentColor\" stroke-width=\"0.1\"/>\n",
       "<rect x=\"75.0\" y=\"-236.8421052631579\" width=\"12.5\" height=\"13.158\" opacity=\"0.0\" fill=\"currentColor\" stroke-width=\"0.1\"/>\n",
       "<rect x=\"87.5\" y=\"-236.8421052631579\" width=\"12.5\" height=\"13.158\" opacity=\"0.0\" fill=\"currentColor\" stroke-width=\"0.1\"/>\n",
       "<rect x=\"100.0\" y=\"-236.8421052631579\" width=\"12.5\" height=\"13.158\" opacity=\"0.045454545454545456\" fill=\"currentColor\" stroke-width=\"0.1\"/>\n",
       "<rect x=\"112.5\" y=\"-236.8421052631579\" width=\"12.5\" height=\"13.158\" opacity=\"0.0\" fill=\"currentColor\" stroke-width=\"0.1\"/>\n",
       "<rect x=\"125.0\" y=\"-236.8421052631579\" width=\"12.5\" height=\"13.158\" opacity=\"0.0\" fill=\"currentColor\" stroke-width=\"0.1\"/>\n",
       "<rect x=\"137.5\" y=\"-236.8421052631579\" width=\"12.5\" height=\"13.158\" opacity=\"0.0\" fill=\"currentColor\" stroke-width=\"0.1\"/>\n",
       "<rect x=\"150.0\" y=\"-236.8421052631579\" width=\"12.5\" height=\"13.158\" opacity=\"0.0\" fill=\"currentColor\" stroke-width=\"0.1\"/>\n",
       "<rect x=\"162.5\" y=\"-236.8421052631579\" width=\"12.5\" height=\"13.158\" opacity=\"0.0\" fill=\"currentColor\" stroke-width=\"0.1\"/>\n",
       "<rect x=\"175.0\" y=\"-236.8421052631579\" width=\"12.5\" height=\"13.158\" opacity=\"0.0\" fill=\"currentColor\" stroke-width=\"0.1\"/>\n",
       "<rect x=\"187.5\" y=\"-236.8421052631579\" width=\"12.5\" height=\"13.158\" opacity=\"0.0\" fill=\"currentColor\" stroke-width=\"0.1\"/>\n",
       "<rect x=\"200.0\" y=\"-236.8421052631579\" width=\"12.5\" height=\"13.158\" opacity=\"0.0\" fill=\"currentColor\" stroke-width=\"0.1\"/>\n",
       "<rect x=\"212.5\" y=\"-236.8421052631579\" width=\"12.5\" height=\"13.158\" opacity=\"0.0\" fill=\"currentColor\" stroke-width=\"0.1\"/>\n",
       "<rect x=\"225.0\" y=\"-236.8421052631579\" width=\"12.5\" height=\"13.158\" opacity=\"0.045454545454545456\" fill=\"currentColor\" stroke-width=\"0.1\"/>\n",
       "<rect x=\"237.5\" y=\"-236.8421052631579\" width=\"12.5\" height=\"13.158\" opacity=\"0.0\" fill=\"currentColor\" stroke-width=\"0.1\"/>\n",
       "<rect x=\"0.0\" y=\"-250.0\" width=\"12.5\" height=\"13.158\" opacity=\"0.0\" fill=\"currentColor\" stroke-width=\"0.1\"/>\n",
       "<rect x=\"12.5\" y=\"-250.0\" width=\"12.5\" height=\"13.158\" opacity=\"0.0\" fill=\"currentColor\" stroke-width=\"0.1\"/>\n",
       "<rect x=\"25.0\" y=\"-250.0\" width=\"12.5\" height=\"13.158\" opacity=\"0.0\" fill=\"currentColor\" stroke-width=\"0.1\"/>\n",
       "<rect x=\"37.5\" y=\"-250.0\" width=\"12.5\" height=\"13.158\" opacity=\"0.0\" fill=\"currentColor\" stroke-width=\"0.1\"/>\n",
       "<rect x=\"50.0\" y=\"-250.0\" width=\"12.5\" height=\"13.158\" opacity=\"0.0\" fill=\"currentColor\" stroke-width=\"0.1\"/>\n",
       "<rect x=\"62.5\" y=\"-250.0\" width=\"12.5\" height=\"13.158\" opacity=\"0.0\" fill=\"currentColor\" stroke-width=\"0.1\"/>\n",
       "<rect x=\"75.0\" y=\"-250.0\" width=\"12.5\" height=\"13.158\" opacity=\"0.0\" fill=\"currentColor\" stroke-width=\"0.1\"/>\n",
       "<rect x=\"87.5\" y=\"-250.0\" width=\"12.5\" height=\"13.158\" opacity=\"0.0\" fill=\"currentColor\" stroke-width=\"0.1\"/>\n",
       "<rect x=\"100.0\" y=\"-250.0\" width=\"12.5\" height=\"13.158\" opacity=\"0.0\" fill=\"currentColor\" stroke-width=\"0.1\"/>\n",
       "<rect x=\"112.5\" y=\"-250.0\" width=\"12.5\" height=\"13.158\" opacity=\"0.0\" fill=\"currentColor\" stroke-width=\"0.1\"/>\n",
       "<rect x=\"125.0\" y=\"-250.0\" width=\"12.5\" height=\"13.158\" opacity=\"0.0\" fill=\"currentColor\" stroke-width=\"0.1\"/>\n",
       "<rect x=\"137.5\" y=\"-250.0\" width=\"12.5\" height=\"13.158\" opacity=\"0.0\" fill=\"currentColor\" stroke-width=\"0.1\"/>\n",
       "<rect x=\"150.0\" y=\"-250.0\" width=\"12.5\" height=\"13.158\" opacity=\"0.0\" fill=\"currentColor\" stroke-width=\"0.1\"/>\n",
       "<rect x=\"162.5\" y=\"-250.0\" width=\"12.5\" height=\"13.158\" opacity=\"0.0\" fill=\"currentColor\" stroke-width=\"0.1\"/>\n",
       "<rect x=\"175.0\" y=\"-250.0\" width=\"12.5\" height=\"13.158\" opacity=\"0.0\" fill=\"currentColor\" stroke-width=\"0.1\"/>\n",
       "<rect x=\"187.5\" y=\"-250.0\" width=\"12.5\" height=\"13.158\" opacity=\"0.0\" fill=\"currentColor\" stroke-width=\"0.1\"/>\n",
       "<rect x=\"200.0\" y=\"-250.0\" width=\"12.5\" height=\"13.158\" opacity=\"0.0\" fill=\"currentColor\" stroke-width=\"0.1\"/>\n",
       "<rect x=\"212.5\" y=\"-250.0\" width=\"12.5\" height=\"13.158\" opacity=\"0.0\" fill=\"currentColor\" stroke-width=\"0.1\"/>\n",
       "<rect x=\"225.0\" y=\"-250.0\" width=\"12.5\" height=\"13.158\" opacity=\"0.0\" fill=\"currentColor\" stroke-width=\"0.1\"/>\n",
       "<rect x=\"237.5\" y=\"-250.0\" width=\"12.5\" height=\"13.158\" opacity=\"0.045454545454545456\" fill=\"currentColor\" stroke-width=\"0.1\"/>\n",
       "</svg>\n",
       "</div>\n",
       "<div style=\"flex=grow:1;\">\n",
       "Regular(20, 0, 20, name='xaxis', label=' true bin number')<br/>\n",
       "Regular(19, 0, 19, name='yaxis', label=' reco bin number')<br/>\n",
       "<hr style=\"margin-top:.2em; margin-bottom:.2em;\"/>\n",
       "Weight() Σ=WeightedSum(value=472, variance=472)\n",
       "\n",
       "</div>\n",
       "</div>\n",
       "</html>"
      ],
      "text/plain": [
       "Hist(\n",
       "  Regular(20, 0, 20, name='xaxis', label=' true bin number'),\n",
       "  Regular(19, 0, 19, name='yaxis', label=' reco bin number'),\n",
       "  storage=Weight()) # Sum: WeightedSum(value=472, variance=472)"
      ]
     },
     "execution_count": 58,
     "metadata": {},
     "output_type": "execute_result"
    }
   ],
   "source": [
    "key = twod_non_square_keys[-2]\n",
    "tree[key].to_hist()"
   ]
  },
  {
   "cell_type": "code",
   "execution_count": 29,
   "metadata": {},
   "outputs": [
    {
     "data": {
      "text/plain": [
       "(20, 19)"
      ]
     },
     "execution_count": 29,
     "metadata": {},
     "output_type": "execute_result"
    }
   ],
   "source": [
    "key = twod_non_square_keys[0]\n",
    "tree[key].to_numpy()[0].shape"
   ]
  },
  {
   "cell_type": "code",
   "execution_count": 59,
   "metadata": {},
   "outputs": [
    {
     "data": {
      "text/html": [
       "<html>\n",
       "<div style=\"display:flex; align-items:center;\">\n",
       "<div style=\"width:290px;\">\n",
       "<svg xmlns=\"http://www.w3.org/2000/svg\" viewBox=\"-10 -105 270 120\">\n",
       "<line x1=\"-5\" y1=\"0\" x2=\"255\" y2=\"0\" style=\"fill:none;stroke-width:2;stroke:currentColor\"/>\n",
       "<text text-anchor=\"middle\" x=\"0\" y=\"15\" style=\"fill:currentColor;\">\n",
       "0\n",
       "</text>\n",
       "<text text-anchor=\"middle\" x=\"250\" y=\"15\" style=\"fill:currentColor;\">\n",
       "19\n",
       "</text>\n",
       "<text text-anchor=\"middle\" x=\"125.0\" y=\"15\" style=\"fill:currentColor;\">\n",
       " reco bin number\n",
       "</text>\n",
       "<polyline points=\"  0,0   0,-33.3 13.1579,-33.3 13.1579,-12.1 26.3158,-12.1 26.3158,-27.3 39.4737,-27.3 39.4737,-27.3 52.6316,-27.3 52.6316,-57.6 65.7895,-57.6 65.7895,-48.5 78.9474,-48.5 78.9474,-39.4 92.1053,-39.4 92.1053,-66.7 105.263,-66.7 105.263,-66.7 118.421,-66.7 118.421,-63.6 131.579,-63.6 131.579,-100 144.737,-100 144.737,-75.8 157.895,-75.8 157.895,-63.6 171.053,-63.6 171.053,-27.3 184.211,-27.3 184.211,-12.1 197.368,-12.1 197.368,-12.1 210.526,-12.1 210.526,-18.2 223.684,-18.2 223.684,-3.03 236.842,-3.03 236.842,-3.03 250,-3.03 250,0\" style=\"fill:none; stroke:currentColor;\"/>\n",
       "</svg>\n",
       "</div>\n",
       "<div style=\"flex=grow:1;\">\n",
       "Regular(19, 0, 19, name='xaxis', label=' reco bin number')<br/>\n",
       "<hr style=\"margin-top:.2em; margin-bottom:.2em;\"/>\n",
       "Weight() Σ=WeightedSum(value=250, variance=250)\n",
       "\n",
       "</div>\n",
       "</div>\n",
       "</html>"
      ],
      "text/plain": [
       "Hist(Regular(19, 0, 19, name='xaxis', label=' reco bin number'), storage=Weight()) # Sum: WeightedSum(value=250, variance=250)"
      ]
     },
     "execution_count": 59,
     "metadata": {},
     "output_type": "execute_result"
    }
   ],
   "source": [
    "key = accepted_keys[0]\n",
    "tree[key].to_hist()"
   ]
  },
  {
   "cell_type": "code",
   "execution_count": 60,
   "metadata": {},
   "outputs": [
    {
     "data": {
      "text/html": [
       "<html>\n",
       "<div style=\"display:flex; align-items:center;\">\n",
       "<div style=\"width:290px;\">\n",
       "<svg xmlns=\"http://www.w3.org/2000/svg\" viewBox=\"-10 -105 270 120\">\n",
       "<line x1=\"-5\" y1=\"0\" x2=\"255\" y2=\"0\" style=\"fill:none;stroke-width:2;stroke:currentColor\"/>\n",
       "<text text-anchor=\"middle\" x=\"0\" y=\"15\" style=\"fill:currentColor;\">\n",
       "0\n",
       "</text>\n",
       "<text text-anchor=\"middle\" x=\"250\" y=\"15\" style=\"fill:currentColor;\">\n",
       "20\n",
       "</text>\n",
       "<text text-anchor=\"middle\" x=\"125.0\" y=\"15\" style=\"fill:currentColor;\">\n",
       " true bin number\n",
       "</text>\n",
       "<polyline points=\"  0,0   0,-0.434 12.5,-0.434 12.5,-0.744  25,-0.744  25,-0.775 37.5,-0.775 37.5,-0.589  50,-0.589  50,-0.962 62.5,-0.962 62.5,-0.775  75,-0.775  75,-0.806 87.5,-0.806 87.5,-0.744 100,-0.744 100,-0.993 112.5,-0.993 112.5,-1.52 125,-1.52 125,-1.61 137.5,-1.61 137.5,-1.43 150,-1.43 150,-0.806 162.5,-0.806 162.5,-0.496 175,-0.496 175,-0.31 187.5,-0.31 187.5,-0.186 200,-0.186 200,-0.155 212.5,-0.155 212.5,-0.217 225,-0.217 225,-0.0931 237.5,-0.0931 237.5,-100 250,-100 250,0\" style=\"fill:none; stroke:currentColor;\"/>\n",
       "</svg>\n",
       "</div>\n",
       "<div style=\"flex=grow:1;\">\n",
       "Regular(20, 0, 20, name='xaxis', label=' true bin number')<br/>\n",
       "<hr style=\"margin-top:.2em; margin-bottom:.2em;\"/>\n",
       "Weight() Σ=WeightedSum(value=3664, variance=3664)\n",
       "\n",
       "</div>\n",
       "</div>\n",
       "</html>"
      ],
      "text/plain": [
       "Hist(Regular(20, 0, 20, name='xaxis', label=' true bin number'), storage=Weight()) # Sum: WeightedSum(value=3664, variance=3664)"
      ]
     },
     "execution_count": 60,
     "metadata": {},
     "output_type": "execute_result"
    }
   ],
   "source": [
    "key = accepted_keys[1]\n",
    "tree[key].to_hist()"
   ]
  },
  {
   "cell_type": "code",
   "execution_count": 31,
   "metadata": {},
   "outputs": [
    {
     "data": {
      "text/plain": [
       "<matplotlib.colorbar.Colorbar at 0x7f237e7d9d60>"
      ]
     },
     "execution_count": 31,
     "metadata": {},
     "output_type": "execute_result"
    },
    {
     "data": {
      "image/png": "[encoded data removed]",
      "text/plain": [
       "<Figure size 640x480 with 2 Axes>"
      ]
     },
     "metadata": {},
     "output_type": "display_data"
    }
   ],
   "source": [
    "plt.imshow(tree[key].to_numpy()[0])\n",
    "plt.colorbar()"
   ]
  },
  {
   "cell_type": "code",
   "execution_count": 16,
   "metadata": {},
   "outputs": [
    {
     "data": {
      "text/plain": [
       "'SBND_CC1muX_1D/+exp+sbnd+data+users+brindenc+xsec_analysis+test+sbruce+cc1mux_med_weight.root/weight_GENIEReWeight_SBN_v1_multisim_COHVariationResponse_64_true2d;1'"
      ]
     },
     "execution_count": 16,
     "metadata": {},
     "output_type": "execute_result"
    }
   ],
   "source": [
    "_key"
   ]
  },
  {
   "cell_type": "code",
   "execution_count": 17,
   "metadata": {},
   "outputs": [
    {
     "data": {
      "text/plain": [
       "(19, 20)"
      ]
     },
     "execution_count": 17,
     "metadata": {},
     "output_type": "execute_result"
    }
   ],
   "source": [
    "len(tree['SBND_CC1muX_1D/+exp+sbnd+data+users+brindenc+xsec_analysis+test+sbruce+cc1mux_med_weight.root/unweighted_0_reco;1'].to_numpy()[0]),\\\n",
    "len(tree['SBND_CC1muX_1D/+exp+sbnd+data+users+brindenc+xsec_analysis+test+sbruce+cc1mux_med_weight.root/unweighted_0_reco;1'].to_numpy()[1])"
   ]
  },
  {
   "cell_type": "code",
   "execution_count": 7,
   "metadata": {},
   "outputs": [
    {
     "data": {
      "text/plain": [
       "(0, 6, 663, 0, 0, 332, 0, 0)"
      ]
     },
     "execution_count": 7,
     "metadata": {},
     "output_type": "execute_result"
    }
   ],
   "source": [
    "len(wrong_length_keys),len(dir_keys),len(non_hist_keys),len(p_nan_keys),len(costheta_nan_keys),len(accepted_keys),len(negative_keys),len(zero_keys)"
   ]
  },
  {
   "cell_type": "code",
   "execution_count": 81,
   "metadata": {},
   "outputs": [
    {
     "ename": "IndexError",
     "evalue": "list index out of range",
     "output_type": "error",
     "traceback": [
      "\u001b[0;31m---------------------------------------------------------------------------\u001b[0m",
      "\u001b[0;31mIndexError\u001b[0m                                Traceback (most recent call last)",
      "Cell \u001b[0;32mIn[81], line 1\u001b[0m\n\u001b[0;32m----> 1\u001b[0m wrong_length_th1d \u001b[38;5;241m=\u001b[39m tree[\u001b[43mwrong_length_keys\u001b[49m\u001b[43m[\u001b[49m\u001b[38;5;241;43m0\u001b[39;49m\u001b[43m]\u001b[49m]\u001b[38;5;241m.\u001b[39mto_numpy()\n\u001b[1;32m      2\u001b[0m correct_length_th1d \u001b[38;5;241m=\u001b[39m tree[accepted_keys[\u001b[38;5;241m0\u001b[39m]]\u001b[38;5;241m.\u001b[39mto_numpy()\n\u001b[1;32m      3\u001b[0m \u001b[38;5;28mlen\u001b[39m(wrong_length_th1d[\u001b[38;5;241m0\u001b[39m]), \u001b[38;5;28mlen\u001b[39m(P_BINS) \u001b[38;5;241m+\u001b[39m \u001b[38;5;28mlen\u001b[39m(COSTHETA_BINS), \u001b[38;5;28mlen\u001b[39m(correct_length_th1d[\u001b[38;5;241m0\u001b[39m])\n",
      "\u001b[0;31mIndexError\u001b[0m: list index out of range"
     ]
    }
   ],
   "source": [
    "wrong_length_th1d = tree[wrong_length_keys[0]].to_numpy()\n",
    "correct_length_th1d = tree[accepted_keys[0]].to_numpy()\n",
    "len(wrong_length_th1d[0]), len(P_BINS) + len(COSTHETA_BINS), len(correct_length_th1d[0])"
   ]
  },
  {
   "cell_type": "code",
   "execution_count": 68,
   "metadata": {},
   "outputs": [
    {
     "data": {
      "text/plain": [
       "(array([11.,  4.,  9.,  9., 19., 16., 13., 22., 22., 21., 33., 25., 21.,\n",
       "         9.,  4.,  4.,  6.,  1.]),\n",
       " 'SBND_CC1muX_1D/+exp+sbnd+data+users+brindenc+xsec_analysis+test+sbruce+cc1mux_med_weight.root/unweighted_0_reco;1')"
      ]
     },
     "execution_count": 68,
     "metadata": {},
     "output_type": "execute_result"
    }
   ],
   "source": [
    "correct_length_th1d[0],accepted_keys[0]"
   ]
  },
  {
   "cell_type": "code",
   "execution_count": 69,
   "metadata": {},
   "outputs": [
    {
     "data": {
      "text/plain": [
       "(19, 19)"
      ]
     },
     "execution_count": 69,
     "metadata": {},
     "output_type": "execute_result"
    }
   ],
   "source": [
    "len(wrong_length_th1d[1]),len(tree[key].to_numpy()[1])"
   ]
  },
  {
   "cell_type": "code",
   "execution_count": 29,
   "metadata": {},
   "outputs": [
    {
     "data": {
      "text/plain": [
       "(array([1., 3., 1., 0., 3., 1., 1., 0., 1., 0., 1., 4., 0., 1., 0., 0., 0.,\n",
       "        1.]),\n",
       " array([ 1.        ,  2.77777778,  4.55555556,  6.33333333,  8.11111111,\n",
       "         9.88888889, 11.66666667, 13.44444444, 15.22222222, 17.        ,\n",
       "        18.77777778, 20.55555556, 22.33333333, 24.11111111, 25.88888889,\n",
       "        27.66666667, 29.44444444, 31.22222222, 33.        ]),\n",
       " <BarContainer object of 18 artists>)"
      ]
     },
     "execution_count": 29,
     "metadata": {},
     "output_type": "execute_result"
    },
    {
     "data": {
      "image/png": "[encoded data removed]",
      "text/plain": [
       "<Figure size 640x480 with 1 Axes>"
      ]
     },
     "metadata": {},
     "output_type": "display_data"
    }
   ],
   "source": []
  },
  {
   "cell_type": "code",
   "execution_count": 23,
   "metadata": {},
   "outputs": [
    {
     "data": {
      "text/plain": [
       "(array([0, 1, 2, 3, 4, 5, 6, 7, 8]),\n",
       " array([ 9, 10, 11, 12, 13, 14, 15, 16, 17, 18]))"
      ]
     },
     "execution_count": 23,
     "metadata": {},
     "output_type": "execute_result"
    }
   ],
   "source": [
    "P_BINS,COSTHETA_BINS"
   ]
  },
  {
   "cell_type": "code",
   "execution_count": 29,
   "metadata": {},
   "outputs": [
    {
     "ename": "AttributeError",
     "evalue": "'Model_TH1D_v2' object has no attribute 'classnames'",
     "output_type": "error",
     "traceback": [
      "\u001b[0;31m---------------------------------------------------------------------------\u001b[0m",
      "\u001b[0;31mAttributeError\u001b[0m                            Traceback (most recent call last)",
      "Cell \u001b[0;32mIn[29], line 2\u001b[0m\n\u001b[1;32m      1\u001b[0m _tree\u001b[38;5;241m.\u001b[39mclassnames()\n\u001b[0;32m----> 2\u001b[0m \u001b[43mtree\u001b[49m\u001b[43m[\u001b[49m\u001b[43mkey\u001b[49m\u001b[43m]\u001b[49m\u001b[38;5;241;43m.\u001b[39;49m\u001b[43mclassnames\u001b[49m()\n",
      "\u001b[0;31mAttributeError\u001b[0m: 'Model_TH1D_v2' object has no attribute 'classnames'"
     ]
    }
   ],
   "source": [
    "_tree.classnames()\n",
    "tree[key].classnames()"
   ]
  },
  {
   "cell_type": "code",
   "execution_count": null,
   "metadata": {},
   "outputs": [],
   "source": []
  }
 ],
 "metadata": {
  "kernelspec": {
   "display_name": "env",
   "language": "python",
   "name": "python3"
  },
  "language_info": {
   "codemirror_mode": {
    "name": "ipython",
    "version": 3
   },
   "file_extension": ".py",
   "mimetype": "text/x-python",
   "name": "python",
   "nbconvert_exporter": "python",
   "pygments_lexer": "ipython3",
   "version": "3.9.21"
  }
 },
 "nbformat": 4,
 "nbformat_minor": 2
}
