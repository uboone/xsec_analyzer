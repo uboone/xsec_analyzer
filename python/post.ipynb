{
 "cells": [
  {
   "cell_type": "markdown",
   "metadata": {},
   "source": [
    "## 0. Setup packages and Constants"
   ]
  },
  {
   "cell_type": "code",
   "execution_count": 31,
   "metadata": {},
   "outputs": [
    {
     "name": "stdout",
     "output_type": "stream",
     "text": [
      "The autoreload extension is already loaded. To reload it, use:\n",
      "  %reload_ext autoreload\n"
     ]
    }
   ],
   "source": [
    "import pandas as pd\n",
    "import matplotlib.pyplot as plt\n",
    "import uproot\n",
    "import numpy as np\n",
    "import sys\n",
    "from tqdm import tqdm\n",
    "\n",
    "# Utils\n",
    "from utils import plotters\n",
    "\n",
    "plt.style.use('./utils/style.mplstyle')\n",
    "\n",
    "\n",
    "\n",
    "%load_ext autoreload\n",
    "%autoreload 2"
   ]
  },
  {
   "cell_type": "code",
   "execution_count": 2,
   "metadata": {},
   "outputs": [],
   "source": [
    "#Path to the ROOT file containing the cross section histograms\n",
    "DATA_PATH = '/exp/sbnd/data/users/brindenc/xsec_analysis/test/sbruce/cc1mux_med_weight.root'"
   ]
  },
  {
   "cell_type": "markdown",
   "metadata": {},
   "source": [
    "# 1. Load the data"
   ]
  },
  {
   "cell_type": "code",
   "execution_count": 22,
   "metadata": {},
   "outputs": [],
   "source": [
    "tree = uproot.open(DATA_PATH)['stv_tree;1']\n",
    "keys = tree.keys() #display all keys in the ROOT file\n",
    "weight_keys = [key for key in keys if 'weight' in key]\n",
    "multisim_keys = [key for key in keys if 'multisim' in key]\n",
    "flux_keys = [key for key in keys if 'Flux' in key]"
   ]
  },
  {
   "cell_type": "code",
   "execution_count": 23,
   "metadata": {},
   "outputs": [],
   "source": [
    "#Example\n",
    "leading_muon_momentum = tree['leading_muon_momentum'].array(library='pd')\n",
    "leading_muon_costheta = tree['leading_muon_costheta'].array(library='pd')\n",
    "true_leading_muon_momentum = tree['true_leading_muon_momentum'].array(library='pd')\n",
    "true_leading_muon_costheta = tree['true_leading_muon_costheta'].array(library='pd')"
   ]
  },
  {
   "cell_type": "code",
   "execution_count": 24,
   "metadata": {},
   "outputs": [
    {
     "data": {
      "text/plain": [
       "(np.int64(0), np.int64(0), np.int64(0), np.int64(0))"
      ]
     },
     "execution_count": 24,
     "metadata": {},
     "output_type": "execute_result"
    }
   ],
   "source": [
    "leading_muon_costheta.isna().sum(), leading_muon_momentum.isna().sum(),true_leading_muon_costheta.isna().sum(), true_leading_muon_momentum.isna().sum()"
   ]
  },
  {
   "cell_type": "code",
   "execution_count": 51,
   "metadata": {},
   "outputs": [
    {
     "data": {
      "text/plain": [
       "(np.int64(0), np.int64(0))"
      ]
     },
     "execution_count": 51,
     "metadata": {},
     "output_type": "execute_result"
    }
   ],
   "source": [
    "(leading_muon_momentum < 0).sum(), (true_leading_muon_momentum < 0).sum()"
   ]
  },
  {
   "cell_type": "code",
   "execution_count": 29,
   "metadata": {},
   "outputs": [],
   "source": [
    "weights = tree.arrays(weight_keys,library='pd')"
   ]
  },
  {
   "cell_type": "code",
   "execution_count": null,
   "metadata": {},
   "outputs": [],
   "source": []
  },
  {
   "cell_type": "code",
   "execution_count": 50,
   "metadata": {},
   "outputs": [
    {
     "name": "stderr",
     "output_type": "stream",
     "text": [
      "45it [01:32,  2.07s/it]\n"
     ]
    }
   ],
   "source": [
    "break_flag = False\n",
    "for i, key in tqdm(enumerate(weight_keys)):\n",
    "    for j in range(len(weights[key])):\n",
    "        # if j > 1 or i > 1:\n",
    "        #     print(f'Breaking at {key} and {j}')\n",
    "        #     break\n",
    "        if (np.sum((weights[key][j]) < 0)):\n",
    "            print(f'Negative weight found in {key} at index {j}')\n",
    "            break_flag = True\n",
    "            break\n",
    "    if break_flag: break"
   ]
  },
  {
   "cell_type": "code",
   "execution_count": 39,
   "metadata": {},
   "outputs": [
    {
     "data": {
      "text/plain": [
       "np.int64(0)"
      ]
     },
     "execution_count": 39,
     "metadata": {},
     "output_type": "execute_result"
    }
   ],
   "source": [
    "np.sum((weights.iloc[0][weight_keys[0]]) <= 0)"
   ]
  },
  {
   "cell_type": "code",
   "execution_count": 49,
   "metadata": {},
   "outputs": [
    {
     "data": {
      "text/plain": [
       "np.float64(0.0)"
      ]
     },
     "execution_count": 49,
     "metadata": {},
     "output_type": "execute_result"
    }
   ],
   "source": [
    "min(weights['weight_GENIEReWeight_SBN_v1_multisim_RPA_CCQE'][26])"
   ]
  },
  {
   "cell_type": "code",
   "execution_count": null,
   "metadata": {},
   "outputs": [],
   "source": []
  }
 ],
 "metadata": {
  "kernelspec": {
   "display_name": "env",
   "language": "python",
   "name": "python3"
  },
  "language_info": {
   "codemirror_mode": {
    "name": "ipython",
    "version": 3
   },
   "file_extension": ".py",
   "mimetype": "text/x-python",
   "name": "python",
   "nbconvert_exporter": "python",
   "pygments_lexer": "ipython3",
   "version": "3.9.19"
  }
 },
 "nbformat": 4,
 "nbformat_minor": 2
}
