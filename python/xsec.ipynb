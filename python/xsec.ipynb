{
 "cells": [
  {
   "cell_type": "markdown",
   "metadata": {},
   "source": [
    "## 0. Setup packages and Constants"
   ]
  },
  {
   "cell_type": "code",
   "execution_count": 1,
   "metadata": {},
   "outputs": [],
   "source": [
    "import pandas as pd\n",
    "import matplotlib.pyplot as plt\n",
    "import uproot\n",
    "import numpy as np\n",
    "import sys\n",
    "\n",
    "# Utils\n",
    "from utils import plotters\n",
    "\n",
    "plt.style.use('./utils/style.mplstyle')\n",
    "\n",
    "\n",
    "\n",
    "%load_ext autoreload\n",
    "%autoreload 2"
   ]
  },
  {
   "cell_type": "code",
   "execution_count": 2,
   "metadata": {},
   "outputs": [],
   "source": [
    "#Path to the ROOT file containing the cross section histograms\n",
    "DATA_PATH = '/exp/sbnd/data/users/brindenc/xsec_analysis/test/sbruce/cc1mux_xsec_weight3.root'"
   ]
  },
  {
   "cell_type": "markdown",
   "metadata": {},
   "source": [
    "# 1. Load the data"
   ]
  },
  {
   "cell_type": "code",
   "execution_count": 3,
   "metadata": {},
   "outputs": [],
   "source": [
    "tree = uproot.open(DATA_PATH)\n",
    "#tree.keys() #display all keys in the ROOT file"
   ]
  },
  {
   "cell_type": "code",
   "execution_count": 5,
   "metadata": {},
   "outputs": [
    {
     "data": {
      "text/plain": [
       "((array([ 34.8700459 ,  72.43497905,  81.34426497,  64.66502684,\n",
       "         103.1598215 ,  91.22232699,  90.46433482,  78.11680768,\n",
       "         126.35322449,          nan,          nan,          nan,\n",
       "                  nan,          nan,          nan,          nan,\n",
       "                  nan,          nan,          nan]),\n",
       "  array([ 0.,  1.,  2.,  3.,  4.,  5.,  6.,  7.,  8.,  9., 10., 11., 12.,\n",
       "         13., 14., 15., 16., 17., 18., 19.])),\n",
       " array([44.26907225, 44.09873665, 37.68189465, 38.29765198, 38.72582211,\n",
       "        40.36740753, 47.10434581, 47.08821622, 48.24316928,  0.        ,\n",
       "         0.        ,  0.        ,  0.        ,  0.        ,  0.        ,\n",
       "         0.        ,  0.        ,  0.        ,  0.        ]))"
      ]
     },
     "execution_count": 5,
     "metadata": {},
     "output_type": "execute_result"
    }
   ],
   "source": [
    "#Example\n",
    "#hist_key = 'EventCountUnits/muoncos#theta/muoncos#theta_total;1'\n",
    "#hist_key = 'EventCountUnits/p_{#mu}/p_{#mu}_total;1'\n",
    "#hist_key = 'EventCountUnits/binnumber/binnumber_total;1'\n",
    "#hist_key = 'XsecUnits/muoncos#theta/muoncos#theta_total;1'\n",
    "#hist_key = 'XsecUnits/p_{#mu}/p_{#mu}_total;1'\n",
    "hist_key = 'XsecUnits/binnumber/binnumber_total;1'\n",
    "\n",
    "_tree = tree[hist_key]\n",
    "_tree.to_hist()\n",
    "_hist = _tree.to_numpy()\n",
    "_error = _tree.errors()\n",
    "_hist,_error"
   ]
  },
  {
   "cell_type": "code",
   "execution_count": 36,
   "metadata": {},
   "outputs": [
    {
     "data": {
      "text/plain": [
       "([<matplotlib.lines.Line2D at 0x7f186b6f3d60>],\n",
       " <ErrorbarContainer object of 3 artists>)"
      ]
     },
     "execution_count": 36,
     "metadata": {},
     "output_type": "execute_result"
    },
    {
     "data": {
      "image/png": "[encoded data removed]",
      "text/plain": [
       "<Figure size 640x480 with 1 Axes>"
      ]
     },
     "metadata": {},
     "output_type": "display_data"
    }
   ],
   "source": [
    "plotters.plot_hist_edges(_hist[1], _hist[0], _error)"
   ]
  },
  {
   "cell_type": "code",
   "execution_count": null,
   "metadata": {},
   "outputs": [],
   "source": []
  }
 ],
 "metadata": {
  "kernelspec": {
   "display_name": "env",
   "language": "python",
   "name": "python3"
  },
  "language_info": {
   "codemirror_mode": {
    "name": "ipython",
    "version": 3
   },
   "file_extension": ".py",
   "mimetype": "text/x-python",
   "name": "python",
   "nbconvert_exporter": "python",
   "pygments_lexer": "ipython3",
   "version": "3.9.19"
  }
 },
 "nbformat": 4,
 "nbformat_minor": 2
}
